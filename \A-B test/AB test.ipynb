{
 "cells": [
  {
   "cell_type": "markdown",
   "id": "aerial-pickup",
   "metadata": {},
   "source": [
    "---"
   ]
  },
  {
   "cell_type": "code",
   "execution_count": 1,
   "id": "lyric-serve",
   "metadata": {},
   "outputs": [],
   "source": [
    "import pandas as pd\n",
    "import scipy.stats as stats\n",
    "import plotly.express as px\n",
    "import datetime as dt\n",
    "import numpy as np\n",
    "import matplotlib.pyplot as plt\n",
    "from pandas.plotting import register_matplotlib_converters\n",
    "register_matplotlib_converters()"
   ]
  },
  {
   "cell_type": "markdown",
   "id": "nominated-roads",
   "metadata": {},
   "source": [
    "## Часть 1. Приоритизация гипотез."
   ]
  },
  {
   "cell_type": "markdown",
   "id": "touched-printing",
   "metadata": {},
   "source": [
    "Для начала откроем файл \"hypothesis\" и посмотрим типы данных. Как видно, кроме столбца с гипотезами все остальные имеют целочисленный тип данных, что в принципе объяснимо: осталььные столбцы представляют собой параметры для фреймворков ICE и RICE, которые оцениваются в удобных шкалах. Проверим также датасет на дубликаты."
   ]
  },
  {
   "cell_type": "code",
   "execution_count": 3,
   "id": "north-bobby",
   "metadata": {},
   "outputs": [
    {
     "name": "stdout",
     "output_type": "stream",
     "text": [
      "<class 'pandas.core.frame.DataFrame'>\n",
      "RangeIndex: 9 entries, 0 to 8\n",
      "Data columns (total 5 columns):\n",
      "Hypothesis    9 non-null object\n",
      "Reach         9 non-null int64\n",
      "Impact        9 non-null int64\n",
      "Confidence    9 non-null int64\n",
      "Efforts       9 non-null int64\n",
      "dtypes: int64(4), object(1)\n",
      "memory usage: 488.0+ bytes\n"
     ]
    }
   ],
   "source": [
    "hypothesis.info()"
   ]
  },
  {
   "cell_type": "code",
   "execution_count": 4,
   "id": "regulated-spell",
   "metadata": {},
   "outputs": [
    {
     "data": {
      "text/html": [
       "<div>\n",
       "<style scoped>\n",
       "    .dataframe tbody tr th:only-of-type {\n",
       "        vertical-align: middle;\n",
       "    }\n",
       "\n",
       "    .dataframe tbody tr th {\n",
       "        vertical-align: top;\n",
       "    }\n",
       "\n",
       "    .dataframe thead th {\n",
       "        text-align: right;\n",
       "    }\n",
       "</style>\n",
       "<table border=\"1\" class=\"dataframe\">\n",
       "  <thead>\n",
       "    <tr style=\"text-align: right;\">\n",
       "      <th></th>\n",
       "      <th>Hypothesis</th>\n",
       "      <th>Reach</th>\n",
       "      <th>Impact</th>\n",
       "      <th>Confidence</th>\n",
       "      <th>Efforts</th>\n",
       "    </tr>\n",
       "  </thead>\n",
       "  <tbody>\n",
       "    <tr>\n",
       "      <td>0</td>\n",
       "      <td>Добавить два новых канала привлечения трафика, что позволит привлекать на 30% больше пользователей</td>\n",
       "      <td>3</td>\n",
       "      <td>10</td>\n",
       "      <td>8</td>\n",
       "      <td>6</td>\n",
       "    </tr>\n",
       "    <tr>\n",
       "      <td>1</td>\n",
       "      <td>Запустить собственную службу доставки, что сократит срок доставки заказов</td>\n",
       "      <td>2</td>\n",
       "      <td>5</td>\n",
       "      <td>4</td>\n",
       "      <td>10</td>\n",
       "    </tr>\n",
       "    <tr>\n",
       "      <td>2</td>\n",
       "      <td>Добавить блоки рекомендаций товаров на сайт интернет магазина, чтобы повысить конверсию и средний чек заказа</td>\n",
       "      <td>8</td>\n",
       "      <td>3</td>\n",
       "      <td>7</td>\n",
       "      <td>3</td>\n",
       "    </tr>\n",
       "    <tr>\n",
       "      <td>3</td>\n",
       "      <td>Изменить структура категорий, что увеличит конверсию, т.к. пользователи быстрее найдут нужный товар</td>\n",
       "      <td>8</td>\n",
       "      <td>3</td>\n",
       "      <td>3</td>\n",
       "      <td>8</td>\n",
       "    </tr>\n",
       "    <tr>\n",
       "      <td>4</td>\n",
       "      <td>Изменить цвет фона главной страницы, чтобы увеличить вовлеченность пользователей</td>\n",
       "      <td>3</td>\n",
       "      <td>1</td>\n",
       "      <td>1</td>\n",
       "      <td>1</td>\n",
       "    </tr>\n",
       "    <tr>\n",
       "      <td>5</td>\n",
       "      <td>Добавить страницу отзывов клиентов о магазине, что позволит увеличить количество заказов</td>\n",
       "      <td>3</td>\n",
       "      <td>2</td>\n",
       "      <td>2</td>\n",
       "      <td>3</td>\n",
       "    </tr>\n",
       "    <tr>\n",
       "      <td>6</td>\n",
       "      <td>Показать на главной странице баннеры с актуальными акциями и распродажами, чтобы увеличить конверсию</td>\n",
       "      <td>5</td>\n",
       "      <td>3</td>\n",
       "      <td>8</td>\n",
       "      <td>3</td>\n",
       "    </tr>\n",
       "    <tr>\n",
       "      <td>7</td>\n",
       "      <td>Добавить форму подписки на все основные страницы, чтобы собрать базу клиентов для email-рассылок</td>\n",
       "      <td>10</td>\n",
       "      <td>7</td>\n",
       "      <td>8</td>\n",
       "      <td>5</td>\n",
       "    </tr>\n",
       "    <tr>\n",
       "      <td>8</td>\n",
       "      <td>Запустить акцию, дающую скидку на товар в день рождения</td>\n",
       "      <td>1</td>\n",
       "      <td>9</td>\n",
       "      <td>9</td>\n",
       "      <td>5</td>\n",
       "    </tr>\n",
       "  </tbody>\n",
       "</table>\n",
       "</div>"
      ],
      "text/plain": [
       "                                                                                                     Hypothesis  \\\n",
       "0  Добавить два новых канала привлечения трафика, что позволит привлекать на 30% больше пользователей             \n",
       "1  Запустить собственную службу доставки, что сократит срок доставки заказов                                      \n",
       "2  Добавить блоки рекомендаций товаров на сайт интернет магазина, чтобы повысить конверсию и средний чек заказа   \n",
       "3  Изменить структура категорий, что увеличит конверсию, т.к. пользователи быстрее найдут нужный товар            \n",
       "4  Изменить цвет фона главной страницы, чтобы увеличить вовлеченность пользователей                               \n",
       "5  Добавить страницу отзывов клиентов о магазине, что позволит увеличить количество заказов                       \n",
       "6  Показать на главной странице баннеры с актуальными акциями и распродажами, чтобы увеличить конверсию           \n",
       "7  Добавить форму подписки на все основные страницы, чтобы собрать базу клиентов для email-рассылок               \n",
       "8  Запустить акцию, дающую скидку на товар в день рождения                                                        \n",
       "\n",
       "   Reach  Impact  Confidence  Efforts  \n",
       "0  3      10      8           6        \n",
       "1  2      5       4           10       \n",
       "2  8      3       7           3        \n",
       "3  8      3       3           8        \n",
       "4  3      1       1           1        \n",
       "5  3      2       2           3        \n",
       "6  5      3       8           3        \n",
       "7  10     7       8           5        \n",
       "8  1      9       9           5        "
      ]
     },
     "metadata": {},
     "output_type": "display_data"
    }
   ],
   "source": [
    "pd.set_option(\"display.max_colwidth\", -1)\n",
    "display(hypothesis)"
   ]
  },
  {
   "cell_type": "code",
   "execution_count": 5,
   "id": "young-right",
   "metadata": {},
   "outputs": [],
   "source": [
    "hypothesis[\"number\"] = np.arange(0, 0 + len(hypothesis))"
   ]
  },
  {
   "cell_type": "code",
   "execution_count": 6,
   "id": "shaped-extension",
   "metadata": {},
   "outputs": [
    {
     "data": {
      "text/plain": [
       "0"
      ]
     },
     "execution_count": 6,
     "metadata": {},
     "output_type": "execute_result"
    }
   ],
   "source": [
    "hypothesis.duplicated().sum()"
   ]
  },
  {
   "cell_type": "markdown",
   "id": "cardiac-requirement",
   "metadata": {},
   "source": [
    "Применим для приоритизации гипотез фреймворк ICE, где Impact — насколько сильно изменение повлияет на пользователей, их опыт и удовлетворение от продукта, Confidence — насколько мы уверены, что это изменение повлияет на пользователей именно так и Efforts — сколько стоит протестировать эту гипотезу. Как видно, наиболее перспективными являются гипотезы 8 (Запустить акцию, дающую скидку на товар в день рождения), 0 (Добавить два новых канала привлечения трафика, что позволит привлекать на 30% больше пользователей) и 7 (Добавить форму подписки на все основные страницы, чтобы собрать базу клиентов для email-рассылок)."
   ]
  },
  {
   "cell_type": "code",
   "execution_count": 7,
   "id": "pleased-italian",
   "metadata": {},
   "outputs": [
    {
     "data": {
      "text/html": [
       "<div>\n",
       "<style scoped>\n",
       "    .dataframe tbody tr th:only-of-type {\n",
       "        vertical-align: middle;\n",
       "    }\n",
       "\n",
       "    .dataframe tbody tr th {\n",
       "        vertical-align: top;\n",
       "    }\n",
       "\n",
       "    .dataframe thead th {\n",
       "        text-align: right;\n",
       "    }\n",
       "</style>\n",
       "<table border=\"1\" class=\"dataframe\">\n",
       "  <thead>\n",
       "    <tr style=\"text-align: right;\">\n",
       "      <th></th>\n",
       "      <th>Hypothesis</th>\n",
       "      <th>Reach</th>\n",
       "      <th>Impact</th>\n",
       "      <th>Confidence</th>\n",
       "      <th>Efforts</th>\n",
       "      <th>number</th>\n",
       "      <th>ICE</th>\n",
       "    </tr>\n",
       "  </thead>\n",
       "  <tbody>\n",
       "    <tr>\n",
       "      <td>8</td>\n",
       "      <td>Запустить акцию, дающую скидку на товар в день рождения</td>\n",
       "      <td>1</td>\n",
       "      <td>9</td>\n",
       "      <td>9</td>\n",
       "      <td>5</td>\n",
       "      <td>8</td>\n",
       "      <td>16.20</td>\n",
       "    </tr>\n",
       "    <tr>\n",
       "      <td>0</td>\n",
       "      <td>Добавить два новых канала привлечения трафика, что позволит привлекать на 30% больше пользователей</td>\n",
       "      <td>3</td>\n",
       "      <td>10</td>\n",
       "      <td>8</td>\n",
       "      <td>6</td>\n",
       "      <td>0</td>\n",
       "      <td>13.33</td>\n",
       "    </tr>\n",
       "    <tr>\n",
       "      <td>7</td>\n",
       "      <td>Добавить форму подписки на все основные страницы, чтобы собрать базу клиентов для email-рассылок</td>\n",
       "      <td>10</td>\n",
       "      <td>7</td>\n",
       "      <td>8</td>\n",
       "      <td>5</td>\n",
       "      <td>7</td>\n",
       "      <td>11.20</td>\n",
       "    </tr>\n",
       "    <tr>\n",
       "      <td>6</td>\n",
       "      <td>Показать на главной странице баннеры с актуальными акциями и распродажами, чтобы увеличить конверсию</td>\n",
       "      <td>5</td>\n",
       "      <td>3</td>\n",
       "      <td>8</td>\n",
       "      <td>3</td>\n",
       "      <td>6</td>\n",
       "      <td>8.00</td>\n",
       "    </tr>\n",
       "    <tr>\n",
       "      <td>2</td>\n",
       "      <td>Добавить блоки рекомендаций товаров на сайт интернет магазина, чтобы повысить конверсию и средний чек заказа</td>\n",
       "      <td>8</td>\n",
       "      <td>3</td>\n",
       "      <td>7</td>\n",
       "      <td>3</td>\n",
       "      <td>2</td>\n",
       "      <td>7.00</td>\n",
       "    </tr>\n",
       "    <tr>\n",
       "      <td>1</td>\n",
       "      <td>Запустить собственную службу доставки, что сократит срок доставки заказов</td>\n",
       "      <td>2</td>\n",
       "      <td>5</td>\n",
       "      <td>4</td>\n",
       "      <td>10</td>\n",
       "      <td>1</td>\n",
       "      <td>2.00</td>\n",
       "    </tr>\n",
       "    <tr>\n",
       "      <td>5</td>\n",
       "      <td>Добавить страницу отзывов клиентов о магазине, что позволит увеличить количество заказов</td>\n",
       "      <td>3</td>\n",
       "      <td>2</td>\n",
       "      <td>2</td>\n",
       "      <td>3</td>\n",
       "      <td>5</td>\n",
       "      <td>1.33</td>\n",
       "    </tr>\n",
       "    <tr>\n",
       "      <td>3</td>\n",
       "      <td>Изменить структура категорий, что увеличит конверсию, т.к. пользователи быстрее найдут нужный товар</td>\n",
       "      <td>8</td>\n",
       "      <td>3</td>\n",
       "      <td>3</td>\n",
       "      <td>8</td>\n",
       "      <td>3</td>\n",
       "      <td>1.12</td>\n",
       "    </tr>\n",
       "    <tr>\n",
       "      <td>4</td>\n",
       "      <td>Изменить цвет фона главной страницы, чтобы увеличить вовлеченность пользователей</td>\n",
       "      <td>3</td>\n",
       "      <td>1</td>\n",
       "      <td>1</td>\n",
       "      <td>1</td>\n",
       "      <td>4</td>\n",
       "      <td>1.00</td>\n",
       "    </tr>\n",
       "  </tbody>\n",
       "</table>\n",
       "</div>"
      ],
      "text/plain": [
       "                                                                                                     Hypothesis  \\\n",
       "8  Запустить акцию, дающую скидку на товар в день рождения                                                        \n",
       "0  Добавить два новых канала привлечения трафика, что позволит привлекать на 30% больше пользователей             \n",
       "7  Добавить форму подписки на все основные страницы, чтобы собрать базу клиентов для email-рассылок               \n",
       "6  Показать на главной странице баннеры с актуальными акциями и распродажами, чтобы увеличить конверсию           \n",
       "2  Добавить блоки рекомендаций товаров на сайт интернет магазина, чтобы повысить конверсию и средний чек заказа   \n",
       "1  Запустить собственную службу доставки, что сократит срок доставки заказов                                      \n",
       "5  Добавить страницу отзывов клиентов о магазине, что позволит увеличить количество заказов                       \n",
       "3  Изменить структура категорий, что увеличит конверсию, т.к. пользователи быстрее найдут нужный товар            \n",
       "4  Изменить цвет фона главной страницы, чтобы увеличить вовлеченность пользователей                               \n",
       "\n",
       "   Reach  Impact  Confidence  Efforts  number    ICE  \n",
       "8  1      9       9           5        8       16.20  \n",
       "0  3      10      8           6        0       13.33  \n",
       "7  10     7       8           5        7       11.20  \n",
       "6  5      3       8           3        6       8.00   \n",
       "2  8      3       7           3        2       7.00   \n",
       "1  2      5       4           10       1       2.00   \n",
       "5  3      2       2           3        5       1.33   \n",
       "3  8      3       3           8        3       1.12   \n",
       "4  3      1       1           1        4       1.00   "
      ]
     },
     "metadata": {},
     "output_type": "display_data"
    }
   ],
   "source": [
    "hypothesis[\"ICE\"] = ((hypothesis[\"Impact\"] * hypothesis[\"Confidence\"]) / hypothesis[\"Efforts\"]).round(2)\n",
    "display(hypothesis.sort_values(by=\"ICE\", ascending=False))"
   ]
  },
  {
   "cell_type": "markdown",
   "id": "excellent-intention",
   "metadata": {},
   "source": [
    "Но в этом случае при приоритизации гипотез мы не учитываем фактор Reach - скольких пользователей затронет желаемое изменение, поэтому мы также посчитаем фреймворк RICE. Как можно увидеть, порядок перспективных гипотез меняется; кроме того, остаются гипотеза 7 (Добавить форму подписки на все основные страницы, чтобы собрать базу клиентов для email-рассылок) и гипотеза 0 (Добавить два новых канала привлечения трафика, что позволит привлекать на 30% больше пользователей), а также появляется\n",
    "гипотеза 2 (Добавить блоки рекомендаций товаров на сайт интернет магазина, чтобы повысить конверсию и средний чек заказа)."
   ]
  },
  {
   "cell_type": "code",
   "execution_count": 8,
   "id": "amber-pattern",
   "metadata": {},
   "outputs": [
    {
     "data": {
      "text/html": [
       "<div>\n",
       "<style scoped>\n",
       "    .dataframe tbody tr th:only-of-type {\n",
       "        vertical-align: middle;\n",
       "    }\n",
       "\n",
       "    .dataframe tbody tr th {\n",
       "        vertical-align: top;\n",
       "    }\n",
       "\n",
       "    .dataframe thead th {\n",
       "        text-align: right;\n",
       "    }\n",
       "</style>\n",
       "<table border=\"1\" class=\"dataframe\">\n",
       "  <thead>\n",
       "    <tr style=\"text-align: right;\">\n",
       "      <th></th>\n",
       "      <th>Hypothesis</th>\n",
       "      <th>Reach</th>\n",
       "      <th>Impact</th>\n",
       "      <th>Confidence</th>\n",
       "      <th>Efforts</th>\n",
       "      <th>number</th>\n",
       "      <th>ICE</th>\n",
       "      <th>RICE</th>\n",
       "    </tr>\n",
       "  </thead>\n",
       "  <tbody>\n",
       "    <tr>\n",
       "      <td>7</td>\n",
       "      <td>Добавить форму подписки на все основные страницы, чтобы собрать базу клиентов для email-рассылок</td>\n",
       "      <td>10</td>\n",
       "      <td>7</td>\n",
       "      <td>8</td>\n",
       "      <td>5</td>\n",
       "      <td>7</td>\n",
       "      <td>11.20</td>\n",
       "      <td>112.0</td>\n",
       "    </tr>\n",
       "    <tr>\n",
       "      <td>2</td>\n",
       "      <td>Добавить блоки рекомендаций товаров на сайт интернет магазина, чтобы повысить конверсию и средний чек заказа</td>\n",
       "      <td>8</td>\n",
       "      <td>3</td>\n",
       "      <td>7</td>\n",
       "      <td>3</td>\n",
       "      <td>2</td>\n",
       "      <td>7.00</td>\n",
       "      <td>56.0</td>\n",
       "    </tr>\n",
       "    <tr>\n",
       "      <td>0</td>\n",
       "      <td>Добавить два новых канала привлечения трафика, что позволит привлекать на 30% больше пользователей</td>\n",
       "      <td>3</td>\n",
       "      <td>10</td>\n",
       "      <td>8</td>\n",
       "      <td>6</td>\n",
       "      <td>0</td>\n",
       "      <td>13.33</td>\n",
       "      <td>40.0</td>\n",
       "    </tr>\n",
       "    <tr>\n",
       "      <td>6</td>\n",
       "      <td>Показать на главной странице баннеры с актуальными акциями и распродажами, чтобы увеличить конверсию</td>\n",
       "      <td>5</td>\n",
       "      <td>3</td>\n",
       "      <td>8</td>\n",
       "      <td>3</td>\n",
       "      <td>6</td>\n",
       "      <td>8.00</td>\n",
       "      <td>40.0</td>\n",
       "    </tr>\n",
       "    <tr>\n",
       "      <td>8</td>\n",
       "      <td>Запустить акцию, дающую скидку на товар в день рождения</td>\n",
       "      <td>1</td>\n",
       "      <td>9</td>\n",
       "      <td>9</td>\n",
       "      <td>5</td>\n",
       "      <td>8</td>\n",
       "      <td>16.20</td>\n",
       "      <td>16.2</td>\n",
       "    </tr>\n",
       "    <tr>\n",
       "      <td>3</td>\n",
       "      <td>Изменить структура категорий, что увеличит конверсию, т.к. пользователи быстрее найдут нужный товар</td>\n",
       "      <td>8</td>\n",
       "      <td>3</td>\n",
       "      <td>3</td>\n",
       "      <td>8</td>\n",
       "      <td>3</td>\n",
       "      <td>1.12</td>\n",
       "      <td>9.0</td>\n",
       "    </tr>\n",
       "    <tr>\n",
       "      <td>1</td>\n",
       "      <td>Запустить собственную службу доставки, что сократит срок доставки заказов</td>\n",
       "      <td>2</td>\n",
       "      <td>5</td>\n",
       "      <td>4</td>\n",
       "      <td>10</td>\n",
       "      <td>1</td>\n",
       "      <td>2.00</td>\n",
       "      <td>4.0</td>\n",
       "    </tr>\n",
       "    <tr>\n",
       "      <td>5</td>\n",
       "      <td>Добавить страницу отзывов клиентов о магазине, что позволит увеличить количество заказов</td>\n",
       "      <td>3</td>\n",
       "      <td>2</td>\n",
       "      <td>2</td>\n",
       "      <td>3</td>\n",
       "      <td>5</td>\n",
       "      <td>1.33</td>\n",
       "      <td>4.0</td>\n",
       "    </tr>\n",
       "    <tr>\n",
       "      <td>4</td>\n",
       "      <td>Изменить цвет фона главной страницы, чтобы увеличить вовлеченность пользователей</td>\n",
       "      <td>3</td>\n",
       "      <td>1</td>\n",
       "      <td>1</td>\n",
       "      <td>1</td>\n",
       "      <td>4</td>\n",
       "      <td>1.00</td>\n",
       "      <td>3.0</td>\n",
       "    </tr>\n",
       "  </tbody>\n",
       "</table>\n",
       "</div>"
      ],
      "text/plain": [
       "                                                                                                     Hypothesis  \\\n",
       "7  Добавить форму подписки на все основные страницы, чтобы собрать базу клиентов для email-рассылок               \n",
       "2  Добавить блоки рекомендаций товаров на сайт интернет магазина, чтобы повысить конверсию и средний чек заказа   \n",
       "0  Добавить два новых канала привлечения трафика, что позволит привлекать на 30% больше пользователей             \n",
       "6  Показать на главной странице баннеры с актуальными акциями и распродажами, чтобы увеличить конверсию           \n",
       "8  Запустить акцию, дающую скидку на товар в день рождения                                                        \n",
       "3  Изменить структура категорий, что увеличит конверсию, т.к. пользователи быстрее найдут нужный товар            \n",
       "1  Запустить собственную службу доставки, что сократит срок доставки заказов                                      \n",
       "5  Добавить страницу отзывов клиентов о магазине, что позволит увеличить количество заказов                       \n",
       "4  Изменить цвет фона главной страницы, чтобы увеличить вовлеченность пользователей                               \n",
       "\n",
       "   Reach  Impact  Confidence  Efforts  number    ICE   RICE  \n",
       "7  10     7       8           5        7       11.20  112.0  \n",
       "2  8      3       7           3        2       7.00   56.0   \n",
       "0  3      10      8           6        0       13.33  40.0   \n",
       "6  5      3       8           3        6       8.00   40.0   \n",
       "8  1      9       9           5        8       16.20  16.2   \n",
       "3  8      3       3           8        3       1.12   9.0    \n",
       "1  2      5       4           10       1       2.00   4.0    \n",
       "5  3      2       2           3        5       1.33   4.0    \n",
       "4  3      1       1           1        4       1.00   3.0    "
      ]
     },
     "metadata": {},
     "output_type": "display_data"
    }
   ],
   "source": [
    "hypothesis[\"RICE\"] = ((hypothesis[\"Reach\"] * hypothesis[\"Impact\"] * hypothesis[\"Confidence\"]) / hypothesis[\"Efforts\"]).round(2)\n",
    "display(hypothesis.sort_values(by=\"RICE\", ascending=False))"
   ]
  },
  {
   "cell_type": "markdown",
   "id": "functioning-multimedia",
   "metadata": {},
   "source": [
    "Вывод: мы применили для приоритезации гипотез фреймворки ICE и RICE и обнаружили, что их результаты отличаются. Подобная разница объясняется тем, что RICE учитывает количество затронутых изменениями пользователей (именно поэтому гипотеза 8 сменилась на гипотезу 2)."
   ]
  },
  {
   "cell_type": "code",
   "execution_count": 9,
   "id": "painful-google",
   "metadata": {},
   "outputs": [
    {
     "data": {
      "text/html": [
       "<div>\n",
       "<style scoped>\n",
       "    .dataframe tbody tr th:only-of-type {\n",
       "        vertical-align: middle;\n",
       "    }\n",
       "\n",
       "    .dataframe tbody tr th {\n",
       "        vertical-align: top;\n",
       "    }\n",
       "\n",
       "    .dataframe thead th {\n",
       "        text-align: right;\n",
       "    }\n",
       "</style>\n",
       "<table border=\"1\" class=\"dataframe\">\n",
       "  <thead>\n",
       "    <tr style=\"text-align: right;\">\n",
       "      <th></th>\n",
       "      <th>Hypothesis</th>\n",
       "      <th>Reach</th>\n",
       "      <th>Impact</th>\n",
       "      <th>Confidence</th>\n",
       "      <th>Efforts</th>\n",
       "      <th>number</th>\n",
       "      <th>ICE</th>\n",
       "      <th>RICE</th>\n",
       "    </tr>\n",
       "  </thead>\n",
       "  <tbody>\n",
       "    <tr>\n",
       "      <td>0</td>\n",
       "      <td>Добавить два новых канала привлечения трафика, что позволит привлекать на 30% больше пользователей</td>\n",
       "      <td>3</td>\n",
       "      <td>10</td>\n",
       "      <td>8</td>\n",
       "      <td>6</td>\n",
       "      <td>0</td>\n",
       "      <td>13.33</td>\n",
       "      <td>40.0</td>\n",
       "    </tr>\n",
       "    <tr>\n",
       "      <td>1</td>\n",
       "      <td>Запустить собственную службу доставки, что сократит срок доставки заказов</td>\n",
       "      <td>2</td>\n",
       "      <td>5</td>\n",
       "      <td>4</td>\n",
       "      <td>10</td>\n",
       "      <td>1</td>\n",
       "      <td>2.00</td>\n",
       "      <td>4.0</td>\n",
       "    </tr>\n",
       "    <tr>\n",
       "      <td>2</td>\n",
       "      <td>Добавить блоки рекомендаций товаров на сайт интернет магазина, чтобы повысить конверсию и средний чек заказа</td>\n",
       "      <td>8</td>\n",
       "      <td>3</td>\n",
       "      <td>7</td>\n",
       "      <td>3</td>\n",
       "      <td>2</td>\n",
       "      <td>7.00</td>\n",
       "      <td>56.0</td>\n",
       "    </tr>\n",
       "    <tr>\n",
       "      <td>3</td>\n",
       "      <td>Изменить структура категорий, что увеличит конверсию, т.к. пользователи быстрее найдут нужный товар</td>\n",
       "      <td>8</td>\n",
       "      <td>3</td>\n",
       "      <td>3</td>\n",
       "      <td>8</td>\n",
       "      <td>3</td>\n",
       "      <td>1.12</td>\n",
       "      <td>9.0</td>\n",
       "    </tr>\n",
       "    <tr>\n",
       "      <td>4</td>\n",
       "      <td>Изменить цвет фона главной страницы, чтобы увеличить вовлеченность пользователей</td>\n",
       "      <td>3</td>\n",
       "      <td>1</td>\n",
       "      <td>1</td>\n",
       "      <td>1</td>\n",
       "      <td>4</td>\n",
       "      <td>1.00</td>\n",
       "      <td>3.0</td>\n",
       "    </tr>\n",
       "  </tbody>\n",
       "</table>\n",
       "</div>"
      ],
      "text/plain": [
       "                                                                                                     Hypothesis  \\\n",
       "0  Добавить два новых канала привлечения трафика, что позволит привлекать на 30% больше пользователей             \n",
       "1  Запустить собственную службу доставки, что сократит срок доставки заказов                                      \n",
       "2  Добавить блоки рекомендаций товаров на сайт интернет магазина, чтобы повысить конверсию и средний чек заказа   \n",
       "3  Изменить структура категорий, что увеличит конверсию, т.к. пользователи быстрее найдут нужный товар            \n",
       "4  Изменить цвет фона главной страницы, чтобы увеличить вовлеченность пользователей                               \n",
       "\n",
       "   Reach  Impact  Confidence  Efforts  number    ICE  RICE  \n",
       "0  3      10      8           6        0       13.33  40.0  \n",
       "1  2      5       4           10       1       2.00   4.0   \n",
       "2  8      3       7           3        2       7.00   56.0  \n",
       "3  8      3       3           8        3       1.12   9.0   \n",
       "4  3      1       1           1        4       1.00   3.0   "
      ]
     },
     "execution_count": 9,
     "metadata": {},
     "output_type": "execute_result"
    }
   ],
   "source": [
    "hypothesis.set_index(\"Hypothesis\")\n",
    "hypothesis.head()"
   ]
  },
  {
   "cell_type": "code",
   "execution_count": 10,
   "id": "intellectual-keyboard",
   "metadata": {},
   "outputs": [
    {
     "name": "stderr",
     "output_type": "stream",
     "text": [
      "No handles with labels found to put in legend.\n"
     ]
    },
    {
     "data": {
      "image/png": "[encoded data removed]",
      "text/plain": [
       "<Figure size 432x288 with 1 Axes>"
      ]
     },
     "metadata": {
      "needs_background": "light"
     },
     "output_type": "display_data"
    }
   ],
   "source": [
    "fig, ax = plt.subplots()\n",
    "ax.scatter(hypothesis[\"ICE\"], hypothesis[\"RICE\"])\n",
    "plt.xlabel(\"ICE\")\n",
    "plt.ylabel(\"RICE\")\n",
    "plt.title(\"График соотношения фреймворков\")\n",
    "plt.xticks(rotation=45)\n",
    "plt.tight_layout() \n",
    "plt.legend()\n",
    "plt.show()\n",
    "for i, txt in enumerate(hypothesis[\"number\"]):\n",
    "    ax.annotate(txt, (hypothesis[\"ICE\"][i], hypothesis[\"RICE\"][i]))\n"
   ]
  },
  {
   "cell_type": "markdown",
   "id": "thirty-cooperation",
   "metadata": {},
   "source": [
    "## Часть 2. Анализ A/B-теста"
   ]
  },
  {
   "cell_type": "markdown",
   "id": "czech-barrel",
   "metadata": {},
   "source": [
    "Для начала откроем файлы с заказами и посетителями. Как видно, у нас в обоих случаях есть столбец с датой, которую нужно привести к формату даты. Посмотрим на дубликаты: их нет. "
   ]
  },
  {
   "cell_type": "code",
   "execution_count": 12,
   "id": "spectacular-appearance",
   "metadata": {},
   "outputs": [
    {
     "data": {
      "text/plain": [
       "B    640\n",
       "A    557\n",
       "Name: group, dtype: int64"
      ]
     },
     "execution_count": 12,
     "metadata": {},
     "output_type": "execute_result"
    }
   ],
   "source": [
    "orders[\"group\"].value_counts()"
   ]
  },
  {
   "cell_type": "code",
   "execution_count": 13,
   "id": "desirable-father",
   "metadata": {},
   "outputs": [
    {
     "name": "stdout",
     "output_type": "stream",
     "text": [
      "<class 'pandas.core.frame.DataFrame'>\n",
      "RangeIndex: 1197 entries, 0 to 1196\n",
      "Data columns (total 5 columns):\n",
      "transactionId    1197 non-null int64\n",
      "visitorId        1197 non-null int64\n",
      "date             1197 non-null object\n",
      "revenue          1197 non-null int64\n",
      "group            1197 non-null object\n",
      "dtypes: int64(3), object(2)\n",
      "memory usage: 46.9+ KB\n"
     ]
    }
   ],
   "source": [
    "orders.info()"
   ]
  },
  {
   "cell_type": "code",
   "execution_count": 14,
   "id": "married-television",
   "metadata": {},
   "outputs": [
    {
     "name": "stdout",
     "output_type": "stream",
     "text": [
      "<class 'pandas.core.frame.DataFrame'>\n",
      "RangeIndex: 1197 entries, 0 to 1196\n",
      "Data columns (total 5 columns):\n",
      "transactionId    1197 non-null int64\n",
      "visitorId        1197 non-null int64\n",
      "date             1197 non-null datetime64[ns]\n",
      "revenue          1197 non-null int64\n",
      "group            1197 non-null object\n",
      "dtypes: datetime64[ns](1), int64(3), object(1)\n",
      "memory usage: 46.9+ KB\n"
     ]
    }
   ],
   "source": [
    "orders[\"date\"] = pd.to_datetime(orders[\"date\"])\n",
    "orders.info()"
   ]
  },
  {
   "cell_type": "code",
   "execution_count": 15,
   "id": "systematic-period",
   "metadata": {},
   "outputs": [
    {
     "data": {
      "text/plain": [
       "0"
      ]
     },
     "execution_count": 15,
     "metadata": {},
     "output_type": "execute_result"
    }
   ],
   "source": [
    "orders.duplicated().sum()"
   ]
  },
  {
   "cell_type": "code",
   "execution_count": 16,
   "id": "periodic-possible",
   "metadata": {},
   "outputs": [
    {
     "data": {
      "text/html": [
       "<div>\n",
       "<style scoped>\n",
       "    .dataframe tbody tr th:only-of-type {\n",
       "        vertical-align: middle;\n",
       "    }\n",
       "\n",
       "    .dataframe tbody tr th {\n",
       "        vertical-align: top;\n",
       "    }\n",
       "\n",
       "    .dataframe thead th {\n",
       "        text-align: right;\n",
       "    }\n",
       "</style>\n",
       "<table border=\"1\" class=\"dataframe\">\n",
       "  <thead>\n",
       "    <tr style=\"text-align: right;\">\n",
       "      <th></th>\n",
       "      <th>transactionId</th>\n",
       "      <th>visitorId</th>\n",
       "      <th>date</th>\n",
       "      <th>revenue</th>\n",
       "      <th>group</th>\n",
       "    </tr>\n",
       "  </thead>\n",
       "  <tbody>\n",
       "    <tr>\n",
       "      <td>0</td>\n",
       "      <td>3667963787</td>\n",
       "      <td>3312258926</td>\n",
       "      <td>2019-08-15</td>\n",
       "      <td>1650</td>\n",
       "      <td>B</td>\n",
       "    </tr>\n",
       "    <tr>\n",
       "      <td>1</td>\n",
       "      <td>2804400009</td>\n",
       "      <td>3642806036</td>\n",
       "      <td>2019-08-15</td>\n",
       "      <td>730</td>\n",
       "      <td>B</td>\n",
       "    </tr>\n",
       "    <tr>\n",
       "      <td>2</td>\n",
       "      <td>2961555356</td>\n",
       "      <td>4069496402</td>\n",
       "      <td>2019-08-15</td>\n",
       "      <td>400</td>\n",
       "      <td>A</td>\n",
       "    </tr>\n",
       "    <tr>\n",
       "      <td>3</td>\n",
       "      <td>3797467345</td>\n",
       "      <td>1196621759</td>\n",
       "      <td>2019-08-15</td>\n",
       "      <td>9759</td>\n",
       "      <td>B</td>\n",
       "    </tr>\n",
       "    <tr>\n",
       "      <td>4</td>\n",
       "      <td>2282983706</td>\n",
       "      <td>2322279887</td>\n",
       "      <td>2019-08-15</td>\n",
       "      <td>2308</td>\n",
       "      <td>B</td>\n",
       "    </tr>\n",
       "  </tbody>\n",
       "</table>\n",
       "</div>"
      ],
      "text/plain": [
       "   transactionId   visitorId       date  revenue group\n",
       "0  3667963787     3312258926 2019-08-15  1650     B   \n",
       "1  2804400009     3642806036 2019-08-15  730      B   \n",
       "2  2961555356     4069496402 2019-08-15  400      A   \n",
       "3  3797467345     1196621759 2019-08-15  9759     B   \n",
       "4  2282983706     2322279887 2019-08-15  2308     B   "
      ]
     },
     "metadata": {},
     "output_type": "display_data"
    }
   ],
   "source": [
    "display(orders.head())"
   ]
  },
  {
   "cell_type": "code",
   "execution_count": 17,
   "id": "behavioral-wrestling",
   "metadata": {},
   "outputs": [
    {
     "name": "stdout",
     "output_type": "stream",
     "text": [
      "<class 'pandas.core.frame.DataFrame'>\n",
      "RangeIndex: 62 entries, 0 to 61\n",
      "Data columns (total 3 columns):\n",
      "date        62 non-null object\n",
      "group       62 non-null object\n",
      "visitors    62 non-null int64\n",
      "dtypes: int64(1), object(2)\n",
      "memory usage: 1.6+ KB\n"
     ]
    }
   ],
   "source": [
    "visitors.info()"
   ]
  },
  {
   "cell_type": "code",
   "execution_count": 18,
   "id": "subsequent-attraction",
   "metadata": {},
   "outputs": [
    {
     "data": {
      "text/plain": [
       "B    31\n",
       "A    31\n",
       "Name: group, dtype: int64"
      ]
     },
     "execution_count": 18,
     "metadata": {},
     "output_type": "execute_result"
    }
   ],
   "source": [
    "visitors[\"group\"].value_counts()"
   ]
  },
  {
   "cell_type": "code",
   "execution_count": 19,
   "id": "expensive-maximum",
   "metadata": {},
   "outputs": [
    {
     "name": "stdout",
     "output_type": "stream",
     "text": [
      "<class 'pandas.core.frame.DataFrame'>\n",
      "RangeIndex: 62 entries, 0 to 61\n",
      "Data columns (total 3 columns):\n",
      "date        62 non-null datetime64[ns]\n",
      "group       62 non-null object\n",
      "visitors    62 non-null int64\n",
      "dtypes: datetime64[ns](1), int64(1), object(1)\n",
      "memory usage: 1.6+ KB\n"
     ]
    }
   ],
   "source": [
    "visitors[\"date\"] = pd.to_datetime(visitors[\"date\"])\n",
    "visitors.info()"
   ]
  },
  {
   "cell_type": "code",
   "execution_count": 20,
   "id": "grateful-master",
   "metadata": {},
   "outputs": [
    {
     "data": {
      "text/plain": [
       "0"
      ]
     },
     "execution_count": 20,
     "metadata": {},
     "output_type": "execute_result"
    }
   ],
   "source": [
    "visitors.duplicated().sum()"
   ]
  },
  {
   "cell_type": "code",
   "execution_count": 21,
   "id": "sweet-oxide",
   "metadata": {},
   "outputs": [
    {
     "data": {
      "text/html": [
       "<div>\n",
       "<style scoped>\n",
       "    .dataframe tbody tr th:only-of-type {\n",
       "        vertical-align: middle;\n",
       "    }\n",
       "\n",
       "    .dataframe tbody tr th {\n",
       "        vertical-align: top;\n",
       "    }\n",
       "\n",
       "    .dataframe thead th {\n",
       "        text-align: right;\n",
       "    }\n",
       "</style>\n",
       "<table border=\"1\" class=\"dataframe\">\n",
       "  <thead>\n",
       "    <tr style=\"text-align: right;\">\n",
       "      <th></th>\n",
       "      <th>date</th>\n",
       "      <th>group</th>\n",
       "      <th>visitors</th>\n",
       "    </tr>\n",
       "  </thead>\n",
       "  <tbody>\n",
       "    <tr>\n",
       "      <td>0</td>\n",
       "      <td>2019-08-01</td>\n",
       "      <td>A</td>\n",
       "      <td>719</td>\n",
       "    </tr>\n",
       "    <tr>\n",
       "      <td>1</td>\n",
       "      <td>2019-08-02</td>\n",
       "      <td>A</td>\n",
       "      <td>619</td>\n",
       "    </tr>\n",
       "    <tr>\n",
       "      <td>2</td>\n",
       "      <td>2019-08-03</td>\n",
       "      <td>A</td>\n",
       "      <td>507</td>\n",
       "    </tr>\n",
       "    <tr>\n",
       "      <td>3</td>\n",
       "      <td>2019-08-04</td>\n",
       "      <td>A</td>\n",
       "      <td>717</td>\n",
       "    </tr>\n",
       "    <tr>\n",
       "      <td>4</td>\n",
       "      <td>2019-08-05</td>\n",
       "      <td>A</td>\n",
       "      <td>756</td>\n",
       "    </tr>\n",
       "  </tbody>\n",
       "</table>\n",
       "</div>"
      ],
      "text/plain": [
       "        date group  visitors\n",
       "0 2019-08-01  A     719     \n",
       "1 2019-08-02  A     619     \n",
       "2 2019-08-03  A     507     \n",
       "3 2019-08-04  A     717     \n",
       "4 2019-08-05  A     756     "
      ]
     },
     "metadata": {},
     "output_type": "display_data"
    }
   ],
   "source": [
    "display(visitors.head(5))"
   ]
  },
  {
   "cell_type": "markdown",
   "id": "critical-madagascar",
   "metadata": {},
   "source": [
    "Проверим для начала, не попадают ли у нас пользователи сразу в две группы. Видим, что таких пользователей 58. В сложившейся ситуации (тест уже проведен) с ними вряд ли что можно сделать (а изначально было бы хорошо тест остановить), поэтому продолжим анализ теста с ними."
   ]
  },
  {
   "cell_type": "code",
   "execution_count": 22,
   "id": "acoustic-aerospace",
   "metadata": {},
   "outputs": [
    {
     "name": "stdout",
     "output_type": "stream",
     "text": [
      "58\n"
     ]
    }
   ],
   "source": [
    "visitorsA = orders[orders[\"group\"] == \"A\"][\"visitorId\"]\n",
    "visitorsB = orders[orders[\"group\"] == \"B\"][\"visitorId\"]\n",
    "visitorsDup = pd.Series(np.intersect1d(visitorsA, visitorsB))\n",
    "print(len(visitorsDup))"
   ]
  },
  {
   "cell_type": "markdown",
   "id": "combined-petersburg",
   "metadata": {},
   "source": [
    "Соберем кумулятивные данные."
   ]
  },
  {
   "cell_type": "code",
   "execution_count": 23,
   "id": "computational-empire",
   "metadata": {},
   "outputs": [
    {
     "name": "stdout",
     "output_type": "stream",
     "text": [
      "<class 'pandas.core.frame.DataFrame'>\n",
      "RangeIndex: 1197 entries, 0 to 1196\n",
      "Data columns (total 5 columns):\n",
      "transactionId    1197 non-null int64\n",
      "visitorId        1197 non-null int64\n",
      "date             1197 non-null datetime64[ns]\n",
      "revenue          1197 non-null int64\n",
      "group            1197 non-null object\n",
      "dtypes: datetime64[ns](1), int64(3), object(1)\n",
      "memory usage: 46.9+ KB\n"
     ]
    }
   ],
   "source": [
    "orders.info()"
   ]
  },
  {
   "cell_type": "code",
   "execution_count": 24,
   "id": "delayed-collective",
   "metadata": {},
   "outputs": [
    {
     "data": {
      "text/html": [
       "<div>\n",
       "<style scoped>\n",
       "    .dataframe tbody tr th:only-of-type {\n",
       "        vertical-align: middle;\n",
       "    }\n",
       "\n",
       "    .dataframe tbody tr th {\n",
       "        vertical-align: top;\n",
       "    }\n",
       "\n",
       "    .dataframe thead th {\n",
       "        text-align: right;\n",
       "    }\n",
       "</style>\n",
       "<table border=\"1\" class=\"dataframe\">\n",
       "  <thead>\n",
       "    <tr style=\"text-align: right;\">\n",
       "      <th></th>\n",
       "      <th>date</th>\n",
       "      <th>group</th>\n",
       "      <th>transactionId</th>\n",
       "      <th>visitorId</th>\n",
       "      <th>revenue</th>\n",
       "    </tr>\n",
       "  </thead>\n",
       "  <tbody>\n",
       "    <tr>\n",
       "      <td>55</td>\n",
       "      <td>2019-08-01</td>\n",
       "      <td>A</td>\n",
       "      <td>24</td>\n",
       "      <td>20</td>\n",
       "      <td>148579</td>\n",
       "    </tr>\n",
       "    <tr>\n",
       "      <td>66</td>\n",
       "      <td>2019-08-01</td>\n",
       "      <td>B</td>\n",
       "      <td>21</td>\n",
       "      <td>20</td>\n",
       "      <td>101217</td>\n",
       "    </tr>\n",
       "    <tr>\n",
       "      <td>175</td>\n",
       "      <td>2019-08-02</td>\n",
       "      <td>A</td>\n",
       "      <td>44</td>\n",
       "      <td>38</td>\n",
       "      <td>242401</td>\n",
       "    </tr>\n",
       "    <tr>\n",
       "      <td>173</td>\n",
       "      <td>2019-08-02</td>\n",
       "      <td>B</td>\n",
       "      <td>45</td>\n",
       "      <td>43</td>\n",
       "      <td>266748</td>\n",
       "    </tr>\n",
       "    <tr>\n",
       "      <td>291</td>\n",
       "      <td>2019-08-03</td>\n",
       "      <td>A</td>\n",
       "      <td>68</td>\n",
       "      <td>62</td>\n",
       "      <td>354874</td>\n",
       "    </tr>\n",
       "  </tbody>\n",
       "</table>\n",
       "</div>"
      ],
      "text/plain": [
       "          date group  transactionId  visitorId  revenue\n",
       "55  2019-08-01  A     24             20         148579 \n",
       "66  2019-08-01  B     21             20         101217 \n",
       "175 2019-08-02  A     44             38         242401 \n",
       "173 2019-08-02  B     45             43         266748 \n",
       "291 2019-08-03  A     68             62         354874 "
      ]
     },
     "execution_count": 24,
     "metadata": {},
     "output_type": "execute_result"
    }
   ],
   "source": [
    "datesGroups = orders[[\"date\", \"group\"]].drop_duplicates()\n",
    "ordersAggregated = datesGroups.apply(lambda x: orders[np.logical_and(orders[\"date\"] <= x[\"date\"], orders[\"group\"] == x[\"group\"])].agg({\"date\" : \"max\", \"group\" : \"max\", \"transactionId\" : pd.Series.nunique, \"visitorId\" : pd.Series.nunique, \"revenue\" : \"sum\"}), axis=1)\n",
    "ordersAggregated = ordersAggregated.sort_values(by=[\"date\",\"group\"])\n",
    "ordersAggregated.head(5)"
   ]
  },
  {
   "cell_type": "code",
   "execution_count": 25,
   "id": "demonstrated-perception",
   "metadata": {},
   "outputs": [
    {
     "data": {
      "text/html": [
       "<div>\n",
       "<style scoped>\n",
       "    .dataframe tbody tr th:only-of-type {\n",
       "        vertical-align: middle;\n",
       "    }\n",
       "\n",
       "    .dataframe tbody tr th {\n",
       "        vertical-align: top;\n",
       "    }\n",
       "\n",
       "    .dataframe thead th {\n",
       "        text-align: right;\n",
       "    }\n",
       "</style>\n",
       "<table border=\"1\" class=\"dataframe\">\n",
       "  <thead>\n",
       "    <tr style=\"text-align: right;\">\n",
       "      <th></th>\n",
       "      <th>date</th>\n",
       "      <th>group</th>\n",
       "      <th>visitors</th>\n",
       "    </tr>\n",
       "  </thead>\n",
       "  <tbody>\n",
       "    <tr>\n",
       "      <td>55</td>\n",
       "      <td>2019-08-01</td>\n",
       "      <td>A</td>\n",
       "      <td>719</td>\n",
       "    </tr>\n",
       "    <tr>\n",
       "      <td>66</td>\n",
       "      <td>2019-08-01</td>\n",
       "      <td>B</td>\n",
       "      <td>713</td>\n",
       "    </tr>\n",
       "    <tr>\n",
       "      <td>175</td>\n",
       "      <td>2019-08-02</td>\n",
       "      <td>A</td>\n",
       "      <td>1338</td>\n",
       "    </tr>\n",
       "    <tr>\n",
       "      <td>173</td>\n",
       "      <td>2019-08-02</td>\n",
       "      <td>B</td>\n",
       "      <td>1294</td>\n",
       "    </tr>\n",
       "    <tr>\n",
       "      <td>291</td>\n",
       "      <td>2019-08-03</td>\n",
       "      <td>A</td>\n",
       "      <td>1845</td>\n",
       "    </tr>\n",
       "  </tbody>\n",
       "</table>\n",
       "</div>"
      ],
      "text/plain": [
       "          date group  visitors\n",
       "55  2019-08-01  A     719     \n",
       "66  2019-08-01  B     713     \n",
       "175 2019-08-02  A     1338    \n",
       "173 2019-08-02  B     1294    \n",
       "291 2019-08-03  A     1845    "
      ]
     },
     "metadata": {},
     "output_type": "display_data"
    }
   ],
   "source": [
    "visitorsAggregated = datesGroups.apply(lambda x: visitors[np.logical_and(visitors[\"date\"] <= x[\"date\"], visitors[\"group\"] == x[\"group\"])].agg({\"date\": \"max\", \"group\": \"max\", \"visitors\": \"sum\"}), axis=1)\n",
    "visitorsAggregated = visitorsAggregated.sort_values(by=[\"date\", \"group\"])\n",
    "display(visitorsAggregated.head())"
   ]
  },
  {
   "cell_type": "code",
   "execution_count": 26,
   "id": "sublime-chess",
   "metadata": {},
   "outputs": [
    {
     "data": {
      "text/html": [
       "<div>\n",
       "<style scoped>\n",
       "    .dataframe tbody tr th:only-of-type {\n",
       "        vertical-align: middle;\n",
       "    }\n",
       "\n",
       "    .dataframe tbody tr th {\n",
       "        vertical-align: top;\n",
       "    }\n",
       "\n",
       "    .dataframe thead th {\n",
       "        text-align: right;\n",
       "    }\n",
       "</style>\n",
       "<table border=\"1\" class=\"dataframe\">\n",
       "  <thead>\n",
       "    <tr style=\"text-align: right;\">\n",
       "      <th></th>\n",
       "      <th>date</th>\n",
       "      <th>group</th>\n",
       "      <th>orders</th>\n",
       "      <th>buyers</th>\n",
       "      <th>revenue</th>\n",
       "      <th>visitors</th>\n",
       "    </tr>\n",
       "  </thead>\n",
       "  <tbody>\n",
       "    <tr>\n",
       "      <td>0</td>\n",
       "      <td>2019-08-01</td>\n",
       "      <td>A</td>\n",
       "      <td>24</td>\n",
       "      <td>20</td>\n",
       "      <td>148579</td>\n",
       "      <td>719</td>\n",
       "    </tr>\n",
       "    <tr>\n",
       "      <td>1</td>\n",
       "      <td>2019-08-01</td>\n",
       "      <td>B</td>\n",
       "      <td>21</td>\n",
       "      <td>20</td>\n",
       "      <td>101217</td>\n",
       "      <td>713</td>\n",
       "    </tr>\n",
       "    <tr>\n",
       "      <td>2</td>\n",
       "      <td>2019-08-02</td>\n",
       "      <td>A</td>\n",
       "      <td>44</td>\n",
       "      <td>38</td>\n",
       "      <td>242401</td>\n",
       "      <td>1338</td>\n",
       "    </tr>\n",
       "    <tr>\n",
       "      <td>3</td>\n",
       "      <td>2019-08-02</td>\n",
       "      <td>B</td>\n",
       "      <td>45</td>\n",
       "      <td>43</td>\n",
       "      <td>266748</td>\n",
       "      <td>1294</td>\n",
       "    </tr>\n",
       "    <tr>\n",
       "      <td>4</td>\n",
       "      <td>2019-08-03</td>\n",
       "      <td>A</td>\n",
       "      <td>68</td>\n",
       "      <td>62</td>\n",
       "      <td>354874</td>\n",
       "      <td>1845</td>\n",
       "    </tr>\n",
       "  </tbody>\n",
       "</table>\n",
       "</div>"
      ],
      "text/plain": [
       "        date group  orders  buyers  revenue  visitors\n",
       "0 2019-08-01  A     24      20      148579   719     \n",
       "1 2019-08-01  B     21      20      101217   713     \n",
       "2 2019-08-02  A     44      38      242401   1338    \n",
       "3 2019-08-02  B     45      43      266748   1294    \n",
       "4 2019-08-03  A     68      62      354874   1845    "
      ]
     },
     "metadata": {},
     "output_type": "display_data"
    }
   ],
   "source": [
    "cumulativeData = ordersAggregated.merge(visitorsAggregated, left_on=[\"date\", \"group\"], right_on=[\"date\", \"group\"])\n",
    "cumulativeData.columns = [\"date\", \"group\", \"orders\", \"buyers\", \"revenue\", \"visitors\"]\n",
    "display(cumulativeData.head())"
   ]
  },
  {
   "cell_type": "markdown",
   "id": "latter-facing",
   "metadata": {},
   "source": [
    "### Строим график кумулятивной выручки по группам"
   ]
  },
  {
   "cell_type": "markdown",
   "id": "fuzzy-joining",
   "metadata": {},
   "source": [
    "Из таблицы cumulativeData образуем таблицы по выручке и по группам (А и В). Строим график и наблюдаем в целом равномерный рост выручки по обеим группам. Кроме того, видим резкий всплеск роста выручки группы В 17 августа 2019 г., что может быть связано либо с увеличением числа заказов, либо с появлением дорогостоящих заказов (т.е. с выбросами)."
   ]
  },
  {
   "cell_type": "code",
   "execution_count": 27,
   "id": "monthly-surname",
   "metadata": {},
   "outputs": [
    {
     "data": {
      "image/png": "[encoded data removed]",
      "text/plain": [
       "<Figure size 432x288 with 1 Axes>"
      ]
     },
     "metadata": {
      "needs_background": "light"
     },
     "output_type": "display_data"
    }
   ],
   "source": [
    "cumulativeRevenueA = cumulativeData[cumulativeData[\"group\"]== \"A\"][[\"date\", \"revenue\", \"orders\"]]\n",
    "cumulativeRevenueB = cumulativeData[cumulativeData[\"group\"]== \"B\"][[\"date\", \"revenue\", \"orders\"]]\n",
    "plt.plot(cumulativeRevenueA[\"date\"], cumulativeRevenueA[\"revenue\"], label=\"A\")\n",
    "plt.plot(cumulativeRevenueB[\"date\"], cumulativeRevenueB[\"revenue\"], label=\"B\")\n",
    "plt.xlabel(\"date\")\n",
    "plt.ylabel(\"revenue\")\n",
    "plt.title(\"График кумулятивной выручки по группам\")\n",
    "plt.xticks(rotation=45)\n",
    "plt.grid()\n",
    "plt.tight_layout()\n",
    "plt.legend() \n",
    "plt.show()"
   ]
  },
  {
   "cell_type": "markdown",
   "id": "united-index",
   "metadata": {},
   "source": [
    "### Строим график кумулятивного среднего чека по группам"
   ]
  },
  {
   "cell_type": "markdown",
   "id": "fourth-process",
   "metadata": {},
   "source": [
    "На основе уже имеющихся данных по кумулятивной выручке и числу заказов по каждой группе строим графики кумулятивного среднего чека. Кумулятивный средний чек группы В растет, но 17 августа 2019 г. видим его резкий скачок, а затем постепенное понижение. В группе А значение среднего кумулятивного чека сначала падает, потом растет и более-менее выравнивается после 9 августа 2019 г. У нас здесь опять наблюдаются резкие всплески, что также может быть связано с дорогостоящими и крупными заказами."
   ]
  },
  {
   "cell_type": "code",
   "execution_count": 28,
   "id": "whole-corporation",
   "metadata": {},
   "outputs": [
    {
     "data": {
      "image/png": "[encoded data removed]",
      "text/plain": [
       "<Figure size 432x288 with 1 Axes>"
      ]
     },
     "metadata": {
      "needs_background": "light"
     },
     "output_type": "display_data"
    }
   ],
   "source": [
    "plt.plot(cumulativeRevenueA[\"date\"], cumulativeRevenueA[\"revenue\"]/cumulativeRevenueA[\"orders\"], label=\"A\")\n",
    "plt.plot(cumulativeRevenueB[\"date\"], cumulativeRevenueB[\"revenue\"]/cumulativeRevenueB[\"orders\"], label=\"B\")\n",
    "plt.xlabel(\"date\")\n",
    "plt.ylabel(\"average receipt\")\n",
    "plt.title(\"График кумулятивного среднего чека по группам\")\n",
    "plt.xticks(rotation=45)\n",
    "plt.tight_layout()\n",
    "plt.legend() \n",
    "plt.show()"
   ]
  },
  {
   "cell_type": "markdown",
   "id": "royal-harbor",
   "metadata": {},
   "source": [
    "### Строим график относительного изменения кумулятивного среднего чека группы B к группе A"
   ]
  },
  {
   "cell_type": "markdown",
   "id": "elder-transfer",
   "metadata": {},
   "source": [
    "Чтобы найти относительное изменнеие кумулятивного среднего чека группы В к группе А, для начала создадим датафрейм из уже имеющихся данных по кумулятивной выручке, а затем найдем отношение средних чеков. Имеющиеся резкие изменения графика (подъем с 1 по 5 августа 2019 г., падение с 5 по 9 августа 2019 г., а затем снова резкий подъем до 17 августа 2019 г.) заставляют предположить, что в данных имеются выбросы."
   ]
  },
  {
   "cell_type": "code",
   "execution_count": 29,
   "id": "stone-collar",
   "metadata": {},
   "outputs": [
    {
     "data": {
      "image/png": "[encoded data removed]",
      "text/plain": [
       "<Figure size 432x288 with 1 Axes>"
      ]
     },
     "metadata": {
      "needs_background": "light"
     },
     "output_type": "display_data"
    }
   ],
   "source": [
    "mergedCumulativeRevenue = cumulativeRevenueA.merge(cumulativeRevenueB, left_on=\"date\", right_on=\"date\", how=\"left\", suffixes=[\"A\", \"B\"])\n",
    "plt.plot(mergedCumulativeRevenue[\"date\"], (mergedCumulativeRevenue[\"revenueB\"]/mergedCumulativeRevenue[\"ordersB\"])/(mergedCumulativeRevenue[\"revenueA\"]/mergedCumulativeRevenue[\"ordersA\"])-1)\n",
    "plt.axhline(y=0, color='black', linestyle='--') \n",
    "plt.xlabel(\"date\")\n",
    "plt.ylabel(\"ratio receipt\")\n",
    "plt.title(\"График относительного изменения кумулятивного среднего чека группы B к группе A\")\n",
    "plt.xticks(rotation=45)\n",
    "plt.tight_layout() \n",
    "plt.show()"
   ]
  },
  {
   "cell_type": "markdown",
   "id": "random-rental",
   "metadata": {},
   "source": [
    " ### Строим график кумулятивной конверсии по группам"
   ]
  },
  {
   "cell_type": "markdown",
   "id": "centered-honolulu",
   "metadata": {},
   "source": [
    "Посчитаем для начала конверсию и построим графики. Видим, что кумулятивная конверсия группы В растет после 5 августа 2019 г., а кумулятивная конверсия группы А падает после 1 августа 2019 г. Можно предположить, что вариант интернет-магазина оказался удачнее, чем вариант группы А."
   ]
  },
  {
   "cell_type": "code",
   "execution_count": 30,
   "id": "roman-memorial",
   "metadata": {},
   "outputs": [
    {
     "data": {
      "image/png": "[encoded data removed]",
      "text/plain": [
       "<Figure size 432x288 with 1 Axes>"
      ]
     },
     "metadata": {
      "needs_background": "light"
     },
     "output_type": "display_data"
    }
   ],
   "source": [
    "cumulativeData[\"conversion\"] = cumulativeData[\"orders\"]/cumulativeData[\"visitors\"]\n",
    "cumulativeDataA = cumulativeData[cumulativeData[\"group\"]==\"A\"]\n",
    "cumulativeDataB = cumulativeData[cumulativeData[\"group\"]==\"B\"]\n",
    "plt.plot(cumulativeDataA[\"date\"], cumulativeDataA[\"conversion\"], label=\"A\")\n",
    "plt.plot(cumulativeDataB[\"date\"], cumulativeDataB[\"conversion\"], label=\"B\")\n",
    "plt.xlabel(\"date\")\n",
    "plt.ylabel(\"conversion\")\n",
    "plt.title(\"График кумулятивной конверсии по группам\")\n",
    "plt.xticks(rotation=45)\n",
    "plt.tight_layout() \n",
    "plt.legend()\n",
    "plt.show()"
   ]
  },
  {
   "cell_type": "markdown",
   "id": "needed-poverty",
   "metadata": {},
   "source": [
    "### Строим график относительного изменения кумулятивной конверсии группы B к группе A "
   ]
  },
  {
   "cell_type": "markdown",
   "id": "colored-awareness",
   "metadata": {},
   "source": [
    "Посмотрим, как кумулятивная конверсия группы В изменялась по отношению к кумулятивной конверсии группы А. Посмтроим график и у увидим, что с 1 по 5 августа 2019 г. наблюдается спад, а затем идет рост до 13 августа 2019 г., после чего видим снова спад. По графику также видно, что группа В в ходе теста имеет лучшие показатели, чем группа А, однако отношение конверсии еще не установилось, поэтому имеет смысл посмотреть на наличие выбросов в данных."
   ]
  },
  {
   "cell_type": "code",
   "execution_count": 31,
   "id": "willing-advocate",
   "metadata": {},
   "outputs": [
    {
     "data": {
      "image/png": "[encoded data removed]",
      "text/plain": [
       "<Figure size 432x288 with 1 Axes>"
      ]
     },
     "metadata": {
      "needs_background": "light"
     },
     "output_type": "display_data"
    }
   ],
   "source": [
    "mergedCumulativeconversion = cumulativeDataA[[\"date\",\"conversion\"]].merge(cumulativeDataB[[\"date\",\"conversion\"]], left_on=\"date\", right_on=\"date\", how=\"left\", suffixes=[\"A\", \"B\"])\n",
    "plt.plot(mergedCumulativeconversion[\"date\"], mergedCumulativeconversion[\"conversionB\"]/mergedCumulativeconversion[\"conversionA\"] - 1)\n",
    "plt.axhline(y=0, color='black', linestyle='--') \n",
    "plt.axhline(y=-0.1, color='grey', linestyle='--')\n",
    "plt.xlabel(\"date\")\n",
    "plt.ylabel(\"ratio conversion\")\n",
    "plt.title(\"График относительного изменения  кумулятивной конверсии группы B к группе A\")\n",
    "plt.xticks(rotation=45)\n",
    "plt.tight_layout() \n",
    "plt.show()"
   ]
  },
  {
   "cell_type": "markdown",
   "id": "instrumental-median",
   "metadata": {},
   "source": [
    "### Строим точечный график количества заказов по пользователям"
   ]
  },
  {
   "cell_type": "markdown",
   "id": "still-little",
   "metadata": {},
   "source": [
    "Найдем для начала число заказов по пользователям, сгруппировав данные из таблицы \"заказы\". Построим точечный график и увидим, что подавляющее количество пользователей делает один заказ, чуть меньше - два заказа. А большее количестов заказов похоже на выбросы."
   ]
  },
  {
   "cell_type": "code",
   "execution_count": 32,
   "id": "threaded-preview",
   "metadata": {},
   "outputs": [
    {
     "data": {
      "text/html": [
       "<div>\n",
       "<style scoped>\n",
       "    .dataframe tbody tr th:only-of-type {\n",
       "        vertical-align: middle;\n",
       "    }\n",
       "\n",
       "    .dataframe tbody tr th {\n",
       "        vertical-align: top;\n",
       "    }\n",
       "\n",
       "    .dataframe thead th {\n",
       "        text-align: right;\n",
       "    }\n",
       "</style>\n",
       "<table border=\"1\" class=\"dataframe\">\n",
       "  <thead>\n",
       "    <tr style=\"text-align: right;\">\n",
       "      <th></th>\n",
       "      <th>userId</th>\n",
       "      <th>orders</th>\n",
       "    </tr>\n",
       "  </thead>\n",
       "  <tbody>\n",
       "    <tr>\n",
       "      <td>1023</td>\n",
       "      <td>4256040402</td>\n",
       "      <td>11</td>\n",
       "    </tr>\n",
       "    <tr>\n",
       "      <td>591</td>\n",
       "      <td>2458001652</td>\n",
       "      <td>11</td>\n",
       "    </tr>\n",
       "    <tr>\n",
       "      <td>569</td>\n",
       "      <td>2378935119</td>\n",
       "      <td>9</td>\n",
       "    </tr>\n",
       "    <tr>\n",
       "      <td>487</td>\n",
       "      <td>2038680547</td>\n",
       "      <td>8</td>\n",
       "    </tr>\n",
       "    <tr>\n",
       "      <td>44</td>\n",
       "      <td>199603092</td>\n",
       "      <td>5</td>\n",
       "    </tr>\n",
       "  </tbody>\n",
       "</table>\n",
       "</div>"
      ],
      "text/plain": [
       "          userId  orders\n",
       "1023  4256040402  11    \n",
       "591   2458001652  11    \n",
       "569   2378935119  9     \n",
       "487   2038680547  8     \n",
       "44    199603092   5     "
      ]
     },
     "execution_count": 32,
     "metadata": {},
     "output_type": "execute_result"
    }
   ],
   "source": [
    "ordersByUsers = orders.drop([\"revenue\", \"date\", \"group\"], axis=1).groupby(\"visitorId\", as_index=False).agg({\"transactionId\": pd.Series.nunique})\n",
    "ordersByUsers.columns = [\"userId\",\"orders\"]\n",
    "ordersByUsers = ordersByUsers.sort_values(by=\"orders\", ascending=False)\n",
    "ordersByUsers.head()"
   ]
  },
  {
   "cell_type": "code",
   "execution_count": 33,
   "id": "sufficient-financing",
   "metadata": {},
   "outputs": [
    {
     "data": {
      "image/png": "[encoded data removed]",
      "text/plain": [
       "<Figure size 432x288 with 1 Axes>"
      ]
     },
     "metadata": {
      "needs_background": "light"
     },
     "output_type": "display_data"
    }
   ],
   "source": [
    "x_values = pd.Series(range(0, len(ordersByUsers)))\n",
    "plt.scatter(x_values, ordersByUsers[\"orders\"])\n",
    "plt.xlabel(\"buyers\")\n",
    "plt.ylabel(\"orders\")\n",
    "plt.title(\"Точечный график количества заказов по пользователям\")\n",
    "plt.xticks(rotation=45)\n",
    "plt.tight_layout() \n",
    "plt.show()"
   ]
  },
  {
   "cell_type": "markdown",
   "id": "respected-ancient",
   "metadata": {},
   "source": [
    "### Посчитаем 95-й и 99-й перцентили количества заказов на пользователя. Выберем границу для определения аномальных пользователей."
   ]
  },
  {
   "cell_type": "markdown",
   "id": "controversial-nelson",
   "metadata": {},
   "source": [
    "Для определения аномальных пользователей посмотрим также 90-й, 95-й и 99-й перцентили. Как видно, 90 % делают один заказ, 95 % - 2 заказа и 99 % - 4 заказа. В качестве границы для определения аномальных пользователей для надежности результатов теста установим 4 заказа, больше которых совершает заказы 1 % пользователей."
   ]
  },
  {
   "cell_type": "code",
   "execution_count": 34,
   "id": "italian-embassy",
   "metadata": {},
   "outputs": [
    {
     "name": "stdout",
     "output_type": "stream",
     "text": [
      "[1. 2. 4.]\n"
     ]
    }
   ],
   "source": [
    "print(np.percentile(ordersByUsers[\"orders\"], [90, 95, 99]))"
   ]
  },
  {
   "cell_type": "markdown",
   "id": "controlling-apparatus",
   "metadata": {},
   "source": [
    "### Построим точечный график стоимостей заказов. "
   ]
  },
  {
   "cell_type": "markdown",
   "id": "accepting-scientist",
   "metadata": {},
   "source": [
    "Посмотрим на стоимость заказов. Как видно на графике, в основном стоимость заказов не превышает 25 000 у.е., хотя есть и отдельные выбросы"
   ]
  },
  {
   "cell_type": "code",
   "execution_count": 35,
   "id": "northern-audio",
   "metadata": {},
   "outputs": [
    {
     "data": {
      "image/png": "[encoded data removed]",
      "text/plain": [
       "<Figure size 432x288 with 1 Axes>"
      ]
     },
     "metadata": {
      "needs_background": "light"
     },
     "output_type": "display_data"
    }
   ],
   "source": [
    "x_values = pd.Series(range(0, len(orders[\"revenue\"])))\n",
    "plt.scatter(x_values, orders[\"revenue\"])\n",
    "plt.xlabel(\"buyers\")\n",
    "plt.ylabel(\"revenue\")\n",
    "plt.ylim(0, 200000)\n",
    "plt.title(\"Точечный график стоимостей заказов\")\n",
    "plt.xticks(rotation=45)\n",
    "plt.tight_layout() \n",
    "plt.show()"
   ]
  },
  {
   "cell_type": "markdown",
   "id": "substantial-fiber",
   "metadata": {},
   "source": [
    "### Посчитаем 95-й и 99-й перцентили стоимости заказов. Выберем границу для определения аномальных заказов."
   ]
  },
  {
   "cell_type": "markdown",
   "id": "generous-pressure",
   "metadata": {},
   "source": [
    "Для более точного выяснения границы для аномальных пользователей, посчитаем 90-й, 95-й и 99-й перцентили стоимости заказов. Обнаруживаем, что 90 % стоимости заказов менее 18 168 у.е., а 95 - 28 000 у.е. 99-й перцентиль равен 58 233,2 у.е. Как и в случае с количеством заказа, примем за точку отсчета 99-й перцентиль и проведем границу для определения аномальных пользователей по сумуме 58 233,2 у.е."
   ]
  },
  {
   "cell_type": "code",
   "execution_count": 36,
   "id": "incredible-sentence",
   "metadata": {},
   "outputs": [
    {
     "name": "stdout",
     "output_type": "stream",
     "text": [
      "[18168.  28000.  58233.2]\n"
     ]
    }
   ],
   "source": [
    "print(np.percentile(orders[\"revenue\"], [90, 95, 99]))"
   ]
  },
  {
   "cell_type": "markdown",
   "id": "traditional-steal",
   "metadata": {},
   "source": [
    "### Посчитаем статистическую значимость различий в конверсии между группами по «сырым» данным."
   ]
  },
  {
   "cell_type": "markdown",
   "id": "premier-water",
   "metadata": {},
   "source": [
    "Сформулируем нулевую и альтернативную гипотезу. Нулевая: в сырых данных нет различий в конверсии между группами.\n",
    "Альтернативная: в сырых данных есть различия в конверсии между группами. Уровень значимости: 0,01. В качестве типа альтернативной гипотезы выбираем \"двусторонний\"."
   ]
  },
  {
   "cell_type": "markdown",
   "id": "pediatric-polls",
   "metadata": {},
   "source": [
    "Подготовим данные для анализа. Посчитаем количество посетителей и покупателей в обеих группах по датам. Сгруппируем сначала посететилей по датам в отдельную таблицу, а затем найдем их совокупное количество. Аналогично поступаем в отношении тех, кто делал заказы, только суммируем у них также и выручку."
   ]
  },
  {
   "cell_type": "code",
   "execution_count": 37,
   "id": "communist-young",
   "metadata": {},
   "outputs": [],
   "source": [
    "visitorsADaily = visitors[visitors[\"group\"] == \"A\"][[\"date\", \"visitors\"]]\n",
    "visitorsADaily.columns=[\"date\", \"visitors_per_date_A\"]"
   ]
  },
  {
   "cell_type": "code",
   "execution_count": 38,
   "id": "geographic-oxford",
   "metadata": {},
   "outputs": [
    {
     "data": {
      "text/html": [
       "<div>\n",
       "<style scoped>\n",
       "    .dataframe tbody tr th:only-of-type {\n",
       "        vertical-align: middle;\n",
       "    }\n",
       "\n",
       "    .dataframe tbody tr th {\n",
       "        vertical-align: top;\n",
       "    }\n",
       "\n",
       "    .dataframe thead th {\n",
       "        text-align: right;\n",
       "    }\n",
       "</style>\n",
       "<table border=\"1\" class=\"dataframe\">\n",
       "  <thead>\n",
       "    <tr style=\"text-align: right;\">\n",
       "      <th></th>\n",
       "      <th>date</th>\n",
       "      <th>visitors_Cummulative_A</th>\n",
       "    </tr>\n",
       "  </thead>\n",
       "  <tbody>\n",
       "    <tr>\n",
       "      <td>0</td>\n",
       "      <td>2019-08-01</td>\n",
       "      <td>719</td>\n",
       "    </tr>\n",
       "    <tr>\n",
       "      <td>1</td>\n",
       "      <td>2019-08-02</td>\n",
       "      <td>1338</td>\n",
       "    </tr>\n",
       "    <tr>\n",
       "      <td>2</td>\n",
       "      <td>2019-08-03</td>\n",
       "      <td>1845</td>\n",
       "    </tr>\n",
       "    <tr>\n",
       "      <td>3</td>\n",
       "      <td>2019-08-04</td>\n",
       "      <td>2562</td>\n",
       "    </tr>\n",
       "    <tr>\n",
       "      <td>4</td>\n",
       "      <td>2019-08-05</td>\n",
       "      <td>3318</td>\n",
       "    </tr>\n",
       "  </tbody>\n",
       "</table>\n",
       "</div>"
      ],
      "text/plain": [
       "        date  visitors_Cummulative_A\n",
       "0 2019-08-01  719                   \n",
       "1 2019-08-02  1338                  \n",
       "2 2019-08-03  1845                  \n",
       "3 2019-08-04  2562                  \n",
       "4 2019-08-05  3318                  "
      ]
     },
     "execution_count": 38,
     "metadata": {},
     "output_type": "execute_result"
    }
   ],
   "source": [
    "visitorsACummulative = visitorsADaily.apply(lambda x: visitorsADaily[visitorsADaily[\"date\"] <= x[\"date\"]].agg({\"date\":\"max\", \"visitors_per_date_A\": \"sum\"}),axis=1)\n",
    "visitorsACummulative.columns = [\"date\", \"visitors_Cummulative_A\"]\n",
    "visitorsACummulative.head()"
   ]
  },
  {
   "cell_type": "code",
   "execution_count": 39,
   "id": "colonial-george",
   "metadata": {},
   "outputs": [],
   "source": [
    "visitorsBDaily = visitors[visitors[\"group\"] == \"B\"][[\"date\", \"visitors\"]]\n",
    "visitorsBDaily.columns=[\"date\", \"visitors_per_date_B\"]"
   ]
  },
  {
   "cell_type": "code",
   "execution_count": 40,
   "id": "thirty-technician",
   "metadata": {},
   "outputs": [
    {
     "data": {
      "text/html": [
       "<div>\n",
       "<style scoped>\n",
       "    .dataframe tbody tr th:only-of-type {\n",
       "        vertical-align: middle;\n",
       "    }\n",
       "\n",
       "    .dataframe tbody tr th {\n",
       "        vertical-align: top;\n",
       "    }\n",
       "\n",
       "    .dataframe thead th {\n",
       "        text-align: right;\n",
       "    }\n",
       "</style>\n",
       "<table border=\"1\" class=\"dataframe\">\n",
       "  <thead>\n",
       "    <tr style=\"text-align: right;\">\n",
       "      <th></th>\n",
       "      <th>date</th>\n",
       "      <th>visitors_Cummulative_B</th>\n",
       "    </tr>\n",
       "  </thead>\n",
       "  <tbody>\n",
       "    <tr>\n",
       "      <td>31</td>\n",
       "      <td>2019-08-01</td>\n",
       "      <td>713</td>\n",
       "    </tr>\n",
       "    <tr>\n",
       "      <td>32</td>\n",
       "      <td>2019-08-02</td>\n",
       "      <td>1294</td>\n",
       "    </tr>\n",
       "    <tr>\n",
       "      <td>33</td>\n",
       "      <td>2019-08-03</td>\n",
       "      <td>1803</td>\n",
       "    </tr>\n",
       "    <tr>\n",
       "      <td>34</td>\n",
       "      <td>2019-08-04</td>\n",
       "      <td>2573</td>\n",
       "    </tr>\n",
       "    <tr>\n",
       "      <td>35</td>\n",
       "      <td>2019-08-05</td>\n",
       "      <td>3280</td>\n",
       "    </tr>\n",
       "  </tbody>\n",
       "</table>\n",
       "</div>"
      ],
      "text/plain": [
       "         date  visitors_Cummulative_B\n",
       "31 2019-08-01  713                   \n",
       "32 2019-08-02  1294                  \n",
       "33 2019-08-03  1803                  \n",
       "34 2019-08-04  2573                  \n",
       "35 2019-08-05  3280                  "
      ]
     },
     "execution_count": 40,
     "metadata": {},
     "output_type": "execute_result"
    }
   ],
   "source": [
    "visitorsBCummulative = visitorsBDaily.apply(lambda x: visitorsBDaily[visitorsBDaily[\"date\"] <= x[\"date\"]].agg({\"date\":\"max\", \"visitors_per_date_B\": \"sum\"}),axis=1)\n",
    "visitorsBCummulative.columns = [\"date\", \"visitors_Cummulative_B\"]\n",
    "visitorsBCummulative.head()"
   ]
  },
  {
   "cell_type": "code",
   "execution_count": 41,
   "id": "suburban-american",
   "metadata": {},
   "outputs": [],
   "source": [
    "ordersADaily = (orders[orders[\"group\"] == \"A\"][[\"date\", \"transactionId\", \"visitorId\", \"revenue\"]].groupby(\"date\", as_index=False).agg({\"transactionId\": pd.Series.nunique, \"revenue\": \"sum\"}))\n",
    "ordersADaily.columns=[\"date\", \"orders_per_date_A\", \"revenue_per_date_A\"]"
   ]
  },
  {
   "cell_type": "code",
   "execution_count": 42,
   "id": "violent-laundry",
   "metadata": {},
   "outputs": [
    {
     "data": {
      "text/html": [
       "<div>\n",
       "<style scoped>\n",
       "    .dataframe tbody tr th:only-of-type {\n",
       "        vertical-align: middle;\n",
       "    }\n",
       "\n",
       "    .dataframe tbody tr th {\n",
       "        vertical-align: top;\n",
       "    }\n",
       "\n",
       "    .dataframe thead th {\n",
       "        text-align: right;\n",
       "    }\n",
       "</style>\n",
       "<table border=\"1\" class=\"dataframe\">\n",
       "  <thead>\n",
       "    <tr style=\"text-align: right;\">\n",
       "      <th></th>\n",
       "      <th>date</th>\n",
       "      <th>orders_Cummulative_A</th>\n",
       "      <th>revenue_Cummulative_A</th>\n",
       "    </tr>\n",
       "  </thead>\n",
       "  <tbody>\n",
       "    <tr>\n",
       "      <td>0</td>\n",
       "      <td>2019-08-01</td>\n",
       "      <td>24</td>\n",
       "      <td>148579</td>\n",
       "    </tr>\n",
       "    <tr>\n",
       "      <td>1</td>\n",
       "      <td>2019-08-02</td>\n",
       "      <td>44</td>\n",
       "      <td>242401</td>\n",
       "    </tr>\n",
       "    <tr>\n",
       "      <td>2</td>\n",
       "      <td>2019-08-03</td>\n",
       "      <td>68</td>\n",
       "      <td>354874</td>\n",
       "    </tr>\n",
       "    <tr>\n",
       "      <td>3</td>\n",
       "      <td>2019-08-04</td>\n",
       "      <td>84</td>\n",
       "      <td>425699</td>\n",
       "    </tr>\n",
       "    <tr>\n",
       "      <td>4</td>\n",
       "      <td>2019-08-05</td>\n",
       "      <td>109</td>\n",
       "      <td>549917</td>\n",
       "    </tr>\n",
       "  </tbody>\n",
       "</table>\n",
       "</div>"
      ],
      "text/plain": [
       "        date  orders_Cummulative_A  revenue_Cummulative_A\n",
       "0 2019-08-01  24                    148579               \n",
       "1 2019-08-02  44                    242401               \n",
       "2 2019-08-03  68                    354874               \n",
       "3 2019-08-04  84                    425699               \n",
       "4 2019-08-05  109                   549917               "
      ]
     },
     "execution_count": 42,
     "metadata": {},
     "output_type": "execute_result"
    }
   ],
   "source": [
    "ordersACummulative = ordersADaily.apply(lambda x: ordersADaily[ordersADaily[\"date\"] <= x[\"date\"]].agg({\"date\": \"max\", \"orders_per_date_A\": \"sum\", \"revenue_per_date_A\": \"sum\"}), axis=1)\n",
    "ordersACummulative = ordersACummulative.sort_values(by=[\"date\"])\n",
    "ordersACummulative.columns = [\"date\", \"orders_Cummulative_A\", \"revenue_Cummulative_A\"]\n",
    "ordersACummulative.head()"
   ]
  },
  {
   "cell_type": "code",
   "execution_count": 43,
   "id": "dense-couple",
   "metadata": {},
   "outputs": [],
   "source": [
    "ordersBDaily = (orders[orders[\"group\"] == \"B\"][[\"date\", \"transactionId\", \"visitorId\", \"revenue\"]].groupby(\"date\", as_index=False).agg({\"transactionId\": pd.Series.nunique, \"revenue\": \"sum\"}))\n",
    "ordersBDaily.columns=[\"date\", \"orders_per_date_B\", \"revenue_per_date_B\"]"
   ]
  },
  {
   "cell_type": "code",
   "execution_count": 44,
   "id": "naval-stopping",
   "metadata": {},
   "outputs": [
    {
     "data": {
      "text/html": [
       "<div>\n",
       "<style scoped>\n",
       "    .dataframe tbody tr th:only-of-type {\n",
       "        vertical-align: middle;\n",
       "    }\n",
       "\n",
       "    .dataframe tbody tr th {\n",
       "        vertical-align: top;\n",
       "    }\n",
       "\n",
       "    .dataframe thead th {\n",
       "        text-align: right;\n",
       "    }\n",
       "</style>\n",
       "<table border=\"1\" class=\"dataframe\">\n",
       "  <thead>\n",
       "    <tr style=\"text-align: right;\">\n",
       "      <th></th>\n",
       "      <th>date</th>\n",
       "      <th>orders_Cummulative_B</th>\n",
       "      <th>revenue_Cummulative_B</th>\n",
       "    </tr>\n",
       "  </thead>\n",
       "  <tbody>\n",
       "    <tr>\n",
       "      <td>0</td>\n",
       "      <td>2019-08-01</td>\n",
       "      <td>21</td>\n",
       "      <td>101217</td>\n",
       "    </tr>\n",
       "    <tr>\n",
       "      <td>1</td>\n",
       "      <td>2019-08-02</td>\n",
       "      <td>45</td>\n",
       "      <td>266748</td>\n",
       "    </tr>\n",
       "    <tr>\n",
       "      <td>2</td>\n",
       "      <td>2019-08-03</td>\n",
       "      <td>61</td>\n",
       "      <td>380996</td>\n",
       "    </tr>\n",
       "    <tr>\n",
       "      <td>3</td>\n",
       "      <td>2019-08-04</td>\n",
       "      <td>78</td>\n",
       "      <td>489567</td>\n",
       "    </tr>\n",
       "    <tr>\n",
       "      <td>4</td>\n",
       "      <td>2019-08-05</td>\n",
       "      <td>101</td>\n",
       "      <td>581995</td>\n",
       "    </tr>\n",
       "  </tbody>\n",
       "</table>\n",
       "</div>"
      ],
      "text/plain": [
       "        date  orders_Cummulative_B  revenue_Cummulative_B\n",
       "0 2019-08-01  21                    101217               \n",
       "1 2019-08-02  45                    266748               \n",
       "2 2019-08-03  61                    380996               \n",
       "3 2019-08-04  78                    489567               \n",
       "4 2019-08-05  101                   581995               "
      ]
     },
     "execution_count": 44,
     "metadata": {},
     "output_type": "execute_result"
    }
   ],
   "source": [
    "ordersBCummulative = ordersBDaily.apply(lambda x: ordersBDaily[ordersBDaily[\"date\"] <= x[\"date\"]].agg({\"date\": \"max\", \"orders_per_date_B\": \"sum\", \"revenue_per_date_B\": \"sum\"}), axis=1)\n",
    "ordersBCummulative = ordersBCummulative.sort_values(by=[\"date\"])\n",
    "ordersBCummulative.columns = [\"date\", \"orders_Cummulative_B\", \"revenue_Cummulative_B\"]\n",
    "ordersBCummulative.head()"
   ]
  },
  {
   "cell_type": "markdown",
   "id": "minute-makeup",
   "metadata": {},
   "source": [
    "Объединим получившиеся таблицы в одну."
   ]
  },
  {
   "cell_type": "code",
   "execution_count": 45,
   "id": "realistic-method",
   "metadata": {},
   "outputs": [
    {
     "data": {
      "text/html": [
       "<div>\n",
       "<style scoped>\n",
       "    .dataframe tbody tr th:only-of-type {\n",
       "        vertical-align: middle;\n",
       "    }\n",
       "\n",
       "    .dataframe tbody tr th {\n",
       "        vertical-align: top;\n",
       "    }\n",
       "\n",
       "    .dataframe thead th {\n",
       "        text-align: right;\n",
       "    }\n",
       "</style>\n",
       "<table border=\"1\" class=\"dataframe\">\n",
       "  <thead>\n",
       "    <tr style=\"text-align: right;\">\n",
       "      <th></th>\n",
       "      <th>date</th>\n",
       "      <th>orders_per_date_A</th>\n",
       "      <th>revenue_per_date_A</th>\n",
       "      <th>orders_per_date_B</th>\n",
       "      <th>revenue_per_date_B</th>\n",
       "      <th>orders_Cummulative_A</th>\n",
       "      <th>revenue_Cummulative_A</th>\n",
       "      <th>orders_Cummulative_B</th>\n",
       "      <th>revenue_Cummulative_B</th>\n",
       "      <th>visitors_per_date_A</th>\n",
       "      <th>visitors_per_date_B</th>\n",
       "      <th>visitors_Cummulative_A</th>\n",
       "      <th>visitors_Cummulative_B</th>\n",
       "    </tr>\n",
       "  </thead>\n",
       "  <tbody>\n",
       "    <tr>\n",
       "      <td>0</td>\n",
       "      <td>2019-08-01</td>\n",
       "      <td>24</td>\n",
       "      <td>148579</td>\n",
       "      <td>21</td>\n",
       "      <td>101217</td>\n",
       "      <td>24</td>\n",
       "      <td>148579</td>\n",
       "      <td>21</td>\n",
       "      <td>101217</td>\n",
       "      <td>719</td>\n",
       "      <td>713</td>\n",
       "      <td>719</td>\n",
       "      <td>713</td>\n",
       "    </tr>\n",
       "    <tr>\n",
       "      <td>1</td>\n",
       "      <td>2019-08-02</td>\n",
       "      <td>20</td>\n",
       "      <td>93822</td>\n",
       "      <td>24</td>\n",
       "      <td>165531</td>\n",
       "      <td>44</td>\n",
       "      <td>242401</td>\n",
       "      <td>45</td>\n",
       "      <td>266748</td>\n",
       "      <td>619</td>\n",
       "      <td>581</td>\n",
       "      <td>1338</td>\n",
       "      <td>1294</td>\n",
       "    </tr>\n",
       "    <tr>\n",
       "      <td>2</td>\n",
       "      <td>2019-08-03</td>\n",
       "      <td>24</td>\n",
       "      <td>112473</td>\n",
       "      <td>16</td>\n",
       "      <td>114248</td>\n",
       "      <td>68</td>\n",
       "      <td>354874</td>\n",
       "      <td>61</td>\n",
       "      <td>380996</td>\n",
       "      <td>507</td>\n",
       "      <td>509</td>\n",
       "      <td>1845</td>\n",
       "      <td>1803</td>\n",
       "    </tr>\n",
       "    <tr>\n",
       "      <td>3</td>\n",
       "      <td>2019-08-04</td>\n",
       "      <td>16</td>\n",
       "      <td>70825</td>\n",
       "      <td>17</td>\n",
       "      <td>108571</td>\n",
       "      <td>84</td>\n",
       "      <td>425699</td>\n",
       "      <td>78</td>\n",
       "      <td>489567</td>\n",
       "      <td>717</td>\n",
       "      <td>770</td>\n",
       "      <td>2562</td>\n",
       "      <td>2573</td>\n",
       "    </tr>\n",
       "    <tr>\n",
       "      <td>4</td>\n",
       "      <td>2019-08-05</td>\n",
       "      <td>25</td>\n",
       "      <td>124218</td>\n",
       "      <td>23</td>\n",
       "      <td>92428</td>\n",
       "      <td>109</td>\n",
       "      <td>549917</td>\n",
       "      <td>101</td>\n",
       "      <td>581995</td>\n",
       "      <td>756</td>\n",
       "      <td>707</td>\n",
       "      <td>3318</td>\n",
       "      <td>3280</td>\n",
       "    </tr>\n",
       "  </tbody>\n",
       "</table>\n",
       "</div>"
      ],
      "text/plain": [
       "        date  orders_per_date_A  revenue_per_date_A  orders_per_date_B  \\\n",
       "0 2019-08-01  24                 148579              21                  \n",
       "1 2019-08-02  20                 93822               24                  \n",
       "2 2019-08-03  24                 112473              16                  \n",
       "3 2019-08-04  16                 70825               17                  \n",
       "4 2019-08-05  25                 124218              23                  \n",
       "\n",
       "   revenue_per_date_B  orders_Cummulative_A  revenue_Cummulative_A  \\\n",
       "0  101217              24                    148579                  \n",
       "1  165531              44                    242401                  \n",
       "2  114248              68                    354874                  \n",
       "3  108571              84                    425699                  \n",
       "4  92428               109                   549917                  \n",
       "\n",
       "   orders_Cummulative_B  revenue_Cummulative_B  visitors_per_date_A  \\\n",
       "0  21                    101217                 719                   \n",
       "1  45                    266748                 619                   \n",
       "2  61                    380996                 507                   \n",
       "3  78                    489567                 717                   \n",
       "4  101                   581995                 756                   \n",
       "\n",
       "   visitors_per_date_B  visitors_Cummulative_A  visitors_Cummulative_B  \n",
       "0  713                  719                     713                     \n",
       "1  581                  1338                    1294                    \n",
       "2  509                  1845                    1803                    \n",
       "3  770                  2562                    2573                    \n",
       "4  707                  3318                    3280                    "
      ]
     },
     "metadata": {},
     "output_type": "display_data"
    }
   ],
   "source": [
    "data = (\n",
    "    ordersADaily.merge(\n",
    "        ordersBDaily, left_on=\"date\", right_on=\"date\", how=\"left\"\n",
    "    )\n",
    "    .merge(ordersACummulative, left_on=\"date\", right_on=\"date\", how=\"left\")\n",
    "    .merge(ordersBCummulative, left_on=\"date\", right_on=\"date\", how=\"left\")\n",
    "    .merge(visitorsADaily, left_on=\"date\", right_on=\"date\", how=\"left\")\n",
    "    .merge(visitorsBDaily, left_on=\"date\", right_on=\"date\", how=\"left\")\n",
    "    .merge(visitorsACummulative, left_on=\"date\", right_on=\"date\", how=\"left\")\n",
    "    .merge(visitorsBCummulative, left_on=\"date\", right_on=\"date\", how=\"left\")\n",
    ")\n",
    "display(data.head())"
   ]
  },
  {
   "cell_type": "markdown",
   "id": "addressed-glenn",
   "metadata": {},
   "source": [
    "Приступим к подсчету статистической значимости различия конверсии в группах. Полученное p-value (0,017) больше уровня значимости, который мы задали как 0,01, поэтому нулевую гипотезу мы не отвергаем. И видим, что в сырых данных отсутствуют различия в конверсии между группами А и В. Относительный прирост конверсии группы В к конверсии группы А равен 13,8%."
   ]
  },
  {
   "cell_type": "code",
   "execution_count": 46,
   "id": "rocky-budget",
   "metadata": {},
   "outputs": [],
   "source": [
    "ordersByUsersA = orders[orders[\"group\"] == \"A\"].groupby(\"visitorId\", as_index=False).agg({\"transactionId\": pd.Series.nunique})\n",
    "ordersByUsersA.columns = [\"visitor_Id\", \"orders\"]\n",
    "ordersByUsersB = orders[orders[\"group\"] == \"B\"].groupby(\"visitorId\", as_index=False).agg({\"transactionId\": pd.Series.nunique})\n",
    "ordersByUsersB.columns = [\"visitor_Id\", \"orders\"]"
   ]
  },
  {
   "cell_type": "code",
   "execution_count": 47,
   "id": "organized-newark",
   "metadata": {},
   "outputs": [],
   "source": [
    "sampleA = pd.concat([ordersByUsersA[\"orders\"], pd.Series(0, index=np.arange(data[\"visitors_per_date_A\"].sum() - len(ordersByUsersA[\"orders\"])), name=\"orders\")], axis=0)\n",
    "sampleB = pd.concat([ordersByUsersB[\"orders\"], pd.Series(0, index=np.arange(data[\"visitors_per_date_B\"].sum() - len(ordersByUsersB[\"orders\"])), name=\"orders\")], axis=0)"
   ]
  },
  {
   "cell_type": "code",
   "execution_count": 58,
   "id": "figured-cattle",
   "metadata": {},
   "outputs": [
    {
     "name": "stdout",
     "output_type": "stream",
     "text": [
      "0.017\n",
      "0.138\n"
     ]
    }
   ],
   "source": [
    "print(\"{0:.3f}\".format(stats.mannwhitneyu(sampleA, sampleB, True, \"two-sided\")[1]))\n",
    "print(\"{0:.3f}\".format(sampleB.mean() / sampleA.mean() - 1))"
   ]
  },
  {
   "cell_type": "markdown",
   "id": "compressed-england",
   "metadata": {},
   "source": [
    "### Посчитаем статистическую значимость различий в среднем чеке заказа между группами по «сырым» данным. "
   ]
  },
  {
   "cell_type": "markdown",
   "id": "imported-squad",
   "metadata": {},
   "source": [
    "Сформулируем нулевую и альтернативную гипотезу. Нулевая: в сырых данных нет различий в среднем чеке  между группами.\n",
    "Альтернативная: в сырых данных есть различия в среднем чеке между группами. Уровень значимости: 0,01. В качестве типа альтернативной гипотезы выбираем \"двусторонний\"."
   ]
  },
  {
   "cell_type": "markdown",
   "id": "surrounded-insight",
   "metadata": {},
   "source": [
    "Найдем статистическую значимость различий в среднем чеке заказа. Получившееся значение p-value (0,729) значительно больше уровня значимости (0,01), поэтому мы не отвергаем нулевую гипотезу об отсутствии различий в среднем чеке между группами. Однако, как видно, средний чек группы В выше, чем средний чек группы А на 25,9%."
   ]
  },
  {
   "cell_type": "code",
   "execution_count": 49,
   "id": "embedded-electricity",
   "metadata": {},
   "outputs": [],
   "source": [
    "receiptA = orders[orders[\"group\"]==\"A\"][\"revenue\"]\n",
    "receiptB = orders[orders[\"group\"]==\"B\"][\"revenue\"]"
   ]
  },
  {
   "cell_type": "code",
   "execution_count": 59,
   "id": "fancy-bradley",
   "metadata": {},
   "outputs": [
    {
     "name": "stdout",
     "output_type": "stream",
     "text": [
      "0.729\n",
      "0.259\n"
     ]
    }
   ],
   "source": [
    "print(\"{0:.3f}\".format(stats.mannwhitneyu(receiptA, receiptB, True, \"two-sided\")[1]))\n",
    "print(\"{0:.3f}\".format(receiptB.mean()/receiptA.mean()-1)) "
   ]
  },
  {
   "cell_type": "markdown",
   "id": "increasing-circle",
   "metadata": {},
   "source": [
    "### Посчитаем статистическую значимость различий в конверсии между группами по «очищенным» данным"
   ]
  },
  {
   "cell_type": "markdown",
   "id": "offshore-nomination",
   "metadata": {},
   "source": [
    "Сформулируем нулевую и альтернативную гипотезу. Нулевая: в очищенных данных нет различий в конверсии между группами.\n",
    "Альтернативная: в очищенных данных есть различия в конверсии между группами. Уровень значимости: 0,01. В качестве типа альтернативной гипотезы выбираем \"двусторонний\"."
   ]
  },
  {
   "cell_type": "markdown",
   "id": "seeing-utilization",
   "metadata": {},
   "source": [
    "Предыдущие вычисления мы делали по \"сырым\" данным, т.е. данным с выбросами. Попробуем эти выбросы убрать. Ранее мы определили, что пользователи с более, чем 4 заказами и заказавшие более, чем на 58 233,2 у.е. Аномальных пользователей у нас всего 15 человек."
   ]
  },
  {
   "cell_type": "code",
   "execution_count": 51,
   "id": "temporal-halloween",
   "metadata": {},
   "outputs": [],
   "source": [
    "usersWithTooManyorders = pd.concat([ordersByUsersA[ordersByUsersA[\"orders\"] > 4][\"visitor_Id\"], ordersByUsersB[ordersByUsersB[\"orders\"] > 4][\"visitor_Id\"]], axis=0)"
   ]
  },
  {
   "cell_type": "code",
   "execution_count": 52,
   "id": "sustained-dutch",
   "metadata": {},
   "outputs": [],
   "source": [
    "usersWithTooExpensiveorders = orders[orders[\"revenue\"] > 58233][\"visitorId\"]"
   ]
  },
  {
   "cell_type": "code",
   "execution_count": 53,
   "id": "further-denmark",
   "metadata": {},
   "outputs": [
    {
     "name": "stdout",
     "output_type": "stream",
     "text": [
      "(15,)\n"
     ]
    }
   ],
   "source": [
    "anormalUsers = pd.concat([usersWithTooManyorders, usersWithTooExpensiveorders], axis=0).drop_duplicates().sort_values()\n",
    "print(anormalUsers.shape)"
   ]
  },
  {
   "cell_type": "markdown",
   "id": "increasing-tribune",
   "metadata": {},
   "source": [
    "Построим выборки с очищенными данными. Применим критерий Манна-Уитни и обнаружим, что получившееся значение p-value (0,014) больше уровня значимости (0,01). Соответственно, нулевую гипотезу мы не отвергаем: различий в конверсии между группами сохраняются и в очищенных данных нет. Относительный прирост конверсии группы В к конверсии группы А равен 15,3%. Получается, что результаты в отношении конверсии практически не изменились."
   ]
  },
  {
   "cell_type": "code",
   "execution_count": 54,
   "id": "pointed-accounting",
   "metadata": {},
   "outputs": [],
   "source": [
    "sampleAFilt = pd.concat([ordersByUsersA[np.logical_not(ordersByUsersA[\"visitor_Id\"].isin(anormalUsers))][\"orders\"], pd.Series(0, index=np.arange(data[\"visitors_per_date_A\"].sum() - len(ordersByUsersA[\"orders\"])), name=\"orders\")], axis=0)\n",
    "sampleBFilt = pd.concat([ordersByUsersB[np.logical_not(ordersByUsersB[\"visitor_Id\"].isin(anormalUsers))][\"orders\"], pd.Series(0, index=np.arange(data[\"visitors_per_date_B\"].sum() - len(ordersByUsersB[\"orders\"])), name=\"orders\")], axis=0)"
   ]
  },
  {
   "cell_type": "code",
   "execution_count": 60,
   "id": "distant-variety",
   "metadata": {},
   "outputs": [
    {
     "name": "stdout",
     "output_type": "stream",
     "text": [
      "0.014\n",
      "0.153\n"
     ]
    }
   ],
   "source": [
    "print(\"{0:.3f}\".format(stats.mannwhitneyu(sampleAFilt, sampleBFilt, True, \"two-sided\")[1]))\n",
    "print(\"{0:.3f}\".format(sampleBFilt.mean() / sampleAFilt.mean() - 1))"
   ]
  },
  {
   "cell_type": "markdown",
   "id": "mature-vertical",
   "metadata": {},
   "source": [
    "### Посчитаем статистическую значимость различий в среднем чеке заказа между группами по «очищенным» данным."
   ]
  },
  {
   "cell_type": "markdown",
   "id": "numerical-count",
   "metadata": {},
   "source": [
    "Сформулируем нулевую и альтернативную гипотезу. Нулевая: в очищенных данных нет различий в среднем чеке между группами.\n",
    "Альтернативная: в очищенных данных есть различия в среднем чеке между группами. Уровень значимости: 0,01. В качестве типа альтернативной гипотезы выбираем \"двусторонний\"."
   ]
  },
  {
   "cell_type": "markdown",
   "id": "otherwise-mason",
   "metadata": {},
   "source": [
    "Уберем из данных выбросы и применим критерий Манна-Уитни. Получившееся значение p-value (0,851) больше уровня значимости (0,01). Следовательно, нулевую гипотезу мы не отвергаем: различия в среднем чеке заказа между группами статистически не значимы. При этом по очищенным данным обнаружилось, что средний чек группы В меньше среднего чека группы А на 0,6 %."
   ]
  },
  {
   "cell_type": "code",
   "execution_count": 56,
   "id": "starting-departure",
   "metadata": {},
   "outputs": [],
   "source": [
    "receiptAFilt = orders[np.logical_and(orders[\"group\"]==\"A\", np.logical_not(orders[\"visitorId\"].isin(anormalUsers)))][\"revenue\"]\n",
    "receiptBFilt = orders[np.logical_and(orders[\"group\"]==\"B\", np.logical_not(orders[\"visitorId\"].isin(anormalUsers)))][\"revenue\"]"
   ]
  },
  {
   "cell_type": "code",
   "execution_count": 61,
   "id": "characteristic-infrastructure",
   "metadata": {},
   "outputs": [
    {
     "name": "stdout",
     "output_type": "stream",
     "text": [
      "0.851\n",
      "-0.006\n"
     ]
    }
   ],
   "source": [
    "print(\"{0:.3f}\".format(stats.mannwhitneyu(receiptAFilt, receiptBFilt, True, \"two-sided\")[1]))\n",
    "print(\"{0:.3f}\".format(receiptBFilt.mean()/receiptAFilt.mean()-1)) "
   ]
  },
  {
   "cell_type": "markdown",
   "id": "secure-reminder",
   "metadata": {},
   "source": [
    "### Принимаем решение по результатам теста."
   ]
  },
  {
   "cell_type": "markdown",
   "id": "appropriate-lunch",
   "metadata": {},
   "source": [
    "Вывод: \n",
    "Посмотрим на статистическую значимость различия конверсии в группах по сырым и очищенным данным. По результатам теста видим, что в данных различий в конверсии нет, а конверсия группы В стабильно превышает конверсию группы А.\n",
    "Ситуация сложнее со статистической значимостью различий в среднем чеке заказа. По результатам теста видим, что в среднем чеке между группами различия отсутствуют. Тем не менее, после очистки данных видим, что средний чек группы В меньше среднего чека группы А на менее, чем 1 %.\n",
    "В сложившейся ситуации, когда данные указывают на отсутствие различий, не имеет смысл продолжить тест."
   ]
  }
 ],
 "metadata": {
  "kernelspec": {
   "display_name": "Python 3",
   "language": "python",
   "name": "python3"
  },
  "language_info": {
   "codemirror_mode": {
    "name": "ipython",
    "version": 3
   },
   "file_extension": ".py",
   "mimetype": "text/x-python",
   "name": "python",
   "nbconvert_exporter": "python",
   "pygments_lexer": "ipython3",
   "version": "3.7.10"
  },
  "toc": {
   "base_numbering": 1,
   "nav_menu": {},
   "number_sections": true,
   "sideBar": true,
   "skip_h1_title": true,
   "title_cell": "Table of Contents",
   "title_sidebar": "Contents",
   "toc_cell": false,
   "toc_position": {},
   "toc_section_display": true,
   "toc_window_display": false
  }
 },
 "nbformat": 4,
 "nbformat_minor": 5
}
